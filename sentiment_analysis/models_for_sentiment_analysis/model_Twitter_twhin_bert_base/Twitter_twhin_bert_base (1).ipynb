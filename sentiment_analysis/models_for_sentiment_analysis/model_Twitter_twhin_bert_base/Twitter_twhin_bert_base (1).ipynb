{
  "cells": [
    {
      "cell_type": "markdown",
      "metadata": {
        "id": "rr0yYhMALi6T"
      },
      "source": [
        "**Загрузка и подготовка данных**"
      ]
    },
    {
      "cell_type": "code",
      "execution_count": 1,
      "metadata": {
        "id": "FHtFKIYVQVTH",
        "colab": {
          "base_uri": "https://localhost:8080/"
        },
        "outputId": "0e1cb052-7b39-4d2e-d692-68f8f39f93a7"
      },
      "outputs": [
        {
          "output_type": "stream",
          "name": "stdout",
          "text": [
            "Mounted at /content/drive\n"
          ]
        }
      ],
      "source": [
        "from google.colab import drive\n",
        "import pandas as pd\n",
        "drive.mount('/content/drive')\n",
        "\n",
        "#DS_PATH = '/content/drive/MyDrive/Datasets for ORG-4(SentimentAnalysisWithObjectDetection)/'"
      ]
    },
    {
      "cell_type": "code",
      "source": [
        "import random\n",
        "DF = pd.read_csv('/content/women_balanced.csv',encoding='utf-8',lineterminator='\\n')[['text','label']]\n",
        "data = DF.drop_duplicates()\n",
        "data = DF.dropna()"
      ],
      "metadata": {
        "id": "wIRhSb9Z143z"
      },
      "execution_count": 10,
      "outputs": []
    },
    {
      "cell_type": "code",
      "source": [
        "tmp = round(len(data)* 0.6)\n",
        "tmp_1 = round(len(data) * 0.8)\n",
        "\n",
        "train_data = data.iloc[0:tmp]\n",
        "val_data = data.iloc[tmp:tmp_1]\n",
        "test_data = data.iloc[tmp_1:len(data)]\n",
        "\n",
        "train_text = train_data['text'].astype('str')\n",
        "train_labels = train_data['label'].astype('int')\n",
        "val_text = val_data['text'].astype('str')\n",
        "val_labels = val_data['label'].astype('int')\n",
        "test_text = test_data['text'].astype('str')\n",
        "test_labels = test_data['label'].astype('int')"
      ],
      "metadata": {
        "id": "EA--ZoVj1Wf6"
      },
      "execution_count": 11,
      "outputs": []
    },
    {
      "cell_type": "markdown",
      "metadata": {
        "id": "1KYY_7nOMGKf"
      },
      "source": [
        "**Подключение библиотек**"
      ]
    },
    {
      "cell_type": "code",
      "execution_count": 12,
      "metadata": {
        "colab": {
          "base_uri": "https://localhost:8080/"
        },
        "id": "hhghEw_aQzY9",
        "outputId": "a8e9fc27-ef71-46f2-b57e-f975ecfb62ea"
      },
      "outputs": [
        {
          "output_type": "stream",
          "name": "stdout",
          "text": [
            "Looking in indexes: https://pypi.org/simple, https://us-python.pkg.dev/colab-wheels/public/simple/\n",
            "Requirement already satisfied: transformers in /usr/local/lib/python3.7/dist-packages (4.24.0)\n",
            "Requirement already satisfied: requests in /usr/local/lib/python3.7/dist-packages (from transformers) (2.23.0)\n",
            "Requirement already satisfied: filelock in /usr/local/lib/python3.7/dist-packages (from transformers) (3.8.0)\n",
            "Requirement already satisfied: huggingface-hub<1.0,>=0.10.0 in /usr/local/lib/python3.7/dist-packages (from transformers) (0.11.0)\n",
            "Requirement already satisfied: tqdm>=4.27 in /usr/local/lib/python3.7/dist-packages (from transformers) (4.64.1)\n",
            "Requirement already satisfied: tokenizers!=0.11.3,<0.14,>=0.11.1 in /usr/local/lib/python3.7/dist-packages (from transformers) (0.13.2)\n",
            "Requirement already satisfied: packaging>=20.0 in /usr/local/lib/python3.7/dist-packages (from transformers) (21.3)\n",
            "Requirement already satisfied: importlib-metadata in /usr/local/lib/python3.7/dist-packages (from transformers) (4.13.0)\n",
            "Requirement already satisfied: numpy>=1.17 in /usr/local/lib/python3.7/dist-packages (from transformers) (1.21.6)\n",
            "Requirement already satisfied: regex!=2019.12.17 in /usr/local/lib/python3.7/dist-packages (from transformers) (2022.6.2)\n",
            "Requirement already satisfied: pyyaml>=5.1 in /usr/local/lib/python3.7/dist-packages (from transformers) (6.0)\n",
            "Requirement already satisfied: typing-extensions>=3.7.4.3 in /usr/local/lib/python3.7/dist-packages (from huggingface-hub<1.0,>=0.10.0->transformers) (4.1.1)\n",
            "Requirement already satisfied: pyparsing!=3.0.5,>=2.0.2 in /usr/local/lib/python3.7/dist-packages (from packaging>=20.0->transformers) (3.0.9)\n",
            "Requirement already satisfied: zipp>=0.5 in /usr/local/lib/python3.7/dist-packages (from importlib-metadata->transformers) (3.10.0)\n",
            "Requirement already satisfied: urllib3!=1.25.0,!=1.25.1,<1.26,>=1.21.1 in /usr/local/lib/python3.7/dist-packages (from requests->transformers) (1.24.3)\n",
            "Requirement already satisfied: certifi>=2017.4.17 in /usr/local/lib/python3.7/dist-packages (from requests->transformers) (2022.9.24)\n",
            "Requirement already satisfied: idna<3,>=2.5 in /usr/local/lib/python3.7/dist-packages (from requests->transformers) (2.10)\n",
            "Requirement already satisfied: chardet<4,>=3.0.2 in /usr/local/lib/python3.7/dist-packages (from requests->transformers) (3.0.4)\n"
          ]
        }
      ],
      "source": [
        "!pip install transformers\n",
        "import torch\n",
        "from transformers import BertTokenizer, AutoTokenizer, AutoModel"
      ]
    },
    {
      "cell_type": "markdown",
      "metadata": {
        "id": "8MbXmHjzL0N7"
      },
      "source": [
        "**Загрузка токенизатора с модели Twitter/twhin-bert-base**"
      ]
    },
    {
      "cell_type": "code",
      "execution_count": 13,
      "metadata": {
        "id": "X5_NLK9rRCxS"
      },
      "outputs": [],
      "source": [
        "tokenizer = AutoTokenizer.from_pretrained('Twitter/twhin-bert-base')"
      ]
    },
    {
      "cell_type": "markdown",
      "metadata": {
        "id": "twcg2AmWMXMn"
      },
      "source": [
        "**График длин отзывов**"
      ]
    },
    {
      "cell_type": "code",
      "execution_count": 14,
      "metadata": {
        "colab": {
          "base_uri": "https://localhost:8080/",
          "height": 282
        },
        "id": "yhyTJmvRaaUx",
        "outputId": "09d3d574-c343-4a6c-e915-9c749121d0c3"
      },
      "outputs": [
        {
          "output_type": "execute_result",
          "data": {
            "text/plain": [
              "<matplotlib.axes._subplots.AxesSubplot at 0x7f039180c250>"
            ]
          },
          "metadata": {},
          "execution_count": 14
        },
        {
          "output_type": "display_data",
          "data": {
            "text/plain": [
              "<Figure size 432x288 with 1 Axes>"
            ],
            "image/png": "[encoded data removed]"
          },
          "metadata": {
            "needs_background": "light"
          }
        }
      ],
      "source": [
        "seq_len = [len(str(i).split()) for i in train_text]\n",
        "pd.Series(seq_len).hist(bins = 50)"
      ]
    },
    {
      "cell_type": "markdown",
      "metadata": {
        "id": "vcQNFmzFMzlU"
      },
      "source": [
        "**Токенизация данных**"
      ]
    },
    {
      "cell_type": "code",
      "execution_count": 18,
      "metadata": {
        "id": "Sjck_TJ1RN0j"
      },
      "outputs": [],
      "source": [
        "from torch.utils.data import TensorDataset, DataLoader, RandomSampler, SequentialSampler\n",
        "\n",
        "tokens_train = tokenizer.batch_encode_plus(\n",
        "    list(train_text.values),\n",
        "    max_length = 65,\n",
        "    padding = 'max_length',\n",
        "    truncation = True\n",
        ")\n",
        "tokens_val = tokenizer.batch_encode_plus(\n",
        "    list(val_text.values),\n",
        "    max_length = 65,\n",
        "    padding = 'max_length',\n",
        "    truncation = True\n",
        ")\n",
        "tokens_test = tokenizer.batch_encode_plus(\n",
        "    list(test_text.values),\n",
        "    max_length = 65,\n",
        "    padding = 'max_length',\n",
        "    truncation = True\n",
        ")\n",
        "\n",
        "train_seq = torch.tensor(tokens_train['input_ids'])\n",
        "train_mask = torch.tensor(tokens_train['attention_mask'])\n",
        "train_y = torch.tensor(train_labels.values)\n",
        "\n",
        "val_seq = torch.tensor(tokens_val['input_ids'])\n",
        "val_mask = torch.tensor(tokens_val['attention_mask'])\n",
        "val_y = torch.tensor(val_labels.values)\n",
        "\n",
        "test_seq = torch.tensor(tokens_test['input_ids'])\n",
        "test_mask = torch.tensor(tokens_test['attention_mask'])\n",
        "test_y = torch.tensor(test_labels.values)\n",
        "batch_size = 32\n",
        "\n",
        "\n",
        "train_data = TensorDataset(train_seq, train_mask, train_y)\n",
        "train_sampler = RandomSampler(train_data)\n",
        "train_dataloader = DataLoader(train_data, sampler = train_sampler, batch_size = batch_size)\n",
        "\n",
        "val_data =  TensorDataset(val_seq, val_mask, val_y)\n",
        "val_sampler = SequentialSampler(val_data)\n",
        "val_dataloader = DataLoader(val_data, sampler = val_sampler, batch_size = batch_size)\n",
        "\n",
        "test_data = TensorDataset(test_seq, test_mask)\n",
        "test_sampler = SequentialSampler(test_data)\n",
        "test_dataloader = DataLoader(test_data, sampler=test_sampler, batch_size=batch_size)"
      ]
    },
    {
      "cell_type": "markdown",
      "metadata": {
        "id": "Q9rzUHJxtuiO"
      },
      "source": [
        "**Загружаем модель Twitter/twhin-bert-base, добавляем 3 выхода**"
      ]
    },
    {
      "cell_type": "code",
      "execution_count": 19,
      "metadata": {
        "colab": {
          "base_uri": "https://localhost:8080/",
          "height": 188,
          "referenced_widgets": [
            "04a8307ee76e44cabadacb31a2a6a487",
            "0b899b068b9d49ed83676a2018f905f3",
            "f7d498041c924b98969d917f3027a354",
            "10f1400470164e5d8792a2d1546b2ce5",
            "114ae110e804496a9190f8a3c4b4c7e2",
            "a3be8797a31f41e1b54a8fa9ab038813",
            "3442d5bc7c314f3791242cdfcea3cf0f",
            "f3f3faeb586d475cbb7d3d0656b69d0c",
            "eb0856c449eb4168ac18ac6ca9d4313c",
            "f88a3b8acca44a49ad3b917e8209e2aa",
            "f64cb89bde7b4b34aa3a3c39b9fb414b",
            "08521f21225346ccbc612a1323b8423c",
            "d4223ed22fe84e7eaeb1f3b83c754f5b",
            "a2e9f44cd89c41e388c84d9555835a68",
            "43eda8ff6f4e4c948203b20f8f49a39a",
            "7d8bf4583dbb4c49bb77a17670cced82",
            "4e0a40a1ba0b4aeca681837ce6c10d51",
            "ec37680941c5426f8f736e68aaa79577",
            "042c46d8c8c44605a49cb8450d45005c",
            "9095849748a14a01a1c3fce7c611d751",
            "3f40eed9e3824532ba1b063d329594b3",
            "e12c6544764c418ba8e21e4e173c41c8"
          ]
        },
        "id": "6X-ErgV9Ry1u",
        "outputId": "277bb169-0ff3-4c99-cf95-f514f2fe8e13"
      },
      "outputs": [
        {
          "output_type": "display_data",
          "data": {
            "text/plain": [
              "Downloading:   0%|          | 0.00/632 [00:00<?, ?B/s]"
            ],
            "application/vnd.jupyter.widget-view+json": {
              "version_major": 2,
              "version_minor": 0,
              "model_id": "04a8307ee76e44cabadacb31a2a6a487"
            }
          },
          "metadata": {}
        },
        {
          "output_type": "display_data",
          "data": {
            "text/plain": [
              "Downloading:   0%|          | 0.00/1.12G [00:00<?, ?B/s]"
            ],
            "application/vnd.jupyter.widget-view+json": {
              "version_major": 2,
              "version_minor": 0,
              "model_id": "08521f21225346ccbc612a1323b8423c"
            }
          },
          "metadata": {}
        },
        {
          "output_type": "stream",
          "name": "stderr",
          "text": [
            "Some weights of the model checkpoint at Twitter/twhin-bert-base were not used when initializing BertForSequenceClassification: ['cls.predictions.transform.LayerNorm.bias', 'cls.predictions.decoder.weight', 'cls.predictions.bias', 'cls.predictions.transform.LayerNorm.weight', 'cls.predictions.transform.dense.bias', 'cls.predictions.decoder.bias', 'cls.predictions.transform.dense.weight']\n",
            "- This IS expected if you are initializing BertForSequenceClassification from the checkpoint of a model trained on another task or with another architecture (e.g. initializing a BertForSequenceClassification model from a BertForPreTraining model).\n",
            "- This IS NOT expected if you are initializing BertForSequenceClassification from the checkpoint of a model that you expect to be exactly identical (initializing a BertForSequenceClassification model from a BertForSequenceClassification model).\n",
            "Some weights of BertForSequenceClassification were not initialized from the model checkpoint at Twitter/twhin-bert-base and are newly initialized: ['classifier.weight', 'bert.pooler.dense.weight', 'classifier.bias', 'bert.pooler.dense.bias']\n",
            "You should probably TRAIN this model on a down-stream task to be able to use it for predictions and inference.\n"
          ]
        }
      ],
      "source": [
        "from transformers import BertForSequenceClassification, AdamW, BertConfig\n",
        "\n",
        "model = BertForSequenceClassification.from_pretrained(\"Twitter/twhin-bert-base\", \n",
        "                                                      num_labels = 3, \n",
        "                                                      output_attentions = False,\n",
        "                                                      output_hidden_states = False)"
      ]
    },
    {
      "cell_type": "code",
      "execution_count": 20,
      "metadata": {
        "colab": {
          "base_uri": "https://localhost:8080/"
        },
        "id": "mc9k0R_WSQrA",
        "outputId": "e1fec46f-24fd-454c-825f-a5f5eb40c0bb"
      },
      "outputs": [
        {
          "output_type": "stream",
          "name": "stderr",
          "text": [
            "/usr/local/lib/python3.7/dist-packages/transformers/optimization.py:310: FutureWarning: This implementation of AdamW is deprecated and will be removed in a future version. Use the PyTorch implementation torch.optim.AdamW instead, or set `no_deprecation_warning=True` to disable this warning\n",
            "  FutureWarning,\n"
          ]
        }
      ],
      "source": [
        "optimizer = AdamW(model.parameters(), lr = 2e-5, eps = 1e-8)"
      ]
    },
    {
      "cell_type": "code",
      "execution_count": 21,
      "metadata": {
        "id": "UjxDtmhYSTJe"
      },
      "outputs": [],
      "source": [
        "from transformers import get_linear_schedule_with_warmup\n",
        "\n",
        "n_epochs = 3\n",
        "\n",
        "n_steps = len(train_dataloader) * n_epochs\n",
        "\n",
        "scheduler = get_linear_schedule_with_warmup(optimizer, num_warmup_steps = 0, num_training_steps = n_steps)"
      ]
    },
    {
      "cell_type": "markdown",
      "metadata": {
        "id": "7nSntJtFNpFZ"
      },
      "source": [
        "**Дообучение модели на датасете**"
      ]
    },
    {
      "cell_type": "code",
      "execution_count": 23,
      "metadata": {
        "colab": {
          "base_uri": "https://localhost:8080/"
        },
        "id": "L_P1CmtLSfWX",
        "outputId": "ea5ea774-c5ef-40e3-917f-5aabd24d5cea"
      },
      "outputs": [
        {
          "output_type": "stream",
          "name": "stdout",
          "text": [
            "Training:\n",
            "Batch   100  of  1,467.    Time: 0:00:47.\n",
            "Batch   200  of  1,467.    Time: 0:01:34.\n",
            "Batch   300  of  1,467.    Time: 0:02:22.\n",
            "Batch   400  of  1,467.    Time: 0:03:09.\n",
            "Batch   500  of  1,467.    Time: 0:03:57.\n",
            "Batch   600  of  1,467.    Time: 0:04:44.\n",
            "Batch   700  of  1,467.    Time: 0:05:32.\n",
            "Batch   800  of  1,467.    Time: 0:06:19.\n",
            "Batch   900  of  1,467.    Time: 0:07:07.\n",
            "Batch 1,000  of  1,467.    Time: 0:07:55.\n",
            "Batch 1,100  of  1,467.    Time: 0:08:42.\n",
            "Batch 1,200  of  1,467.    Time: 0:09:30.\n",
            "Batch 1,300  of  1,467.    Time: 0:10:17.\n",
            "Batch 1,400  of  1,467.    Time: 0:11:05.\n",
            "Mean loss:  0.0003342050293667944\n",
            "Training epoch took: 0:11:37\n",
            "\n",
            "Validation:\n",
            "              precision    recall  f1-score   support\n",
            "\n",
            "           0       0.66      0.69      0.67      5286\n",
            "           1       0.91      0.86      0.88      5167\n",
            "           2       0.74      0.75      0.75      5193\n",
            "\n",
            "    accuracy                           0.76     15646\n",
            "   macro avg       0.77      0.77      0.77     15646\n",
            "weighted avg       0.77      0.76      0.77     15646\n",
            "\n",
            "Validation took: 0:00:59\n",
            "\n",
            "Training:\n",
            "Batch   100  of  1,467.    Time: 0:00:47.\n",
            "Batch   200  of  1,467.    Time: 0:01:34.\n",
            "Batch   300  of  1,467.    Time: 0:02:22.\n",
            "Batch   400  of  1,467.    Time: 0:03:09.\n",
            "Batch   500  of  1,467.    Time: 0:03:57.\n",
            "Batch   600  of  1,467.    Time: 0:04:44.\n",
            "Batch   700  of  1,467.    Time: 0:05:32.\n",
            "Batch   800  of  1,467.    Time: 0:06:20.\n",
            "Batch   900  of  1,467.    Time: 0:07:07.\n",
            "Batch 1,000  of  1,467.    Time: 0:07:55.\n",
            "Batch 1,100  of  1,467.    Time: 0:08:43.\n",
            "Batch 1,200  of  1,467.    Time: 0:09:32.\n",
            "Batch 1,300  of  1,467.    Time: 0:10:20.\n",
            "Batch 1,400  of  1,467.    Time: 0:11:07.\n",
            "Mean loss:  0.00032425380160463205\n",
            "Training epoch took: 0:11:39\n",
            "\n",
            "Validation:\n",
            "              precision    recall  f1-score   support\n",
            "\n",
            "           0       0.66      0.73      0.70      5286\n",
            "           1       0.90      0.88      0.89      5167\n",
            "           2       0.78      0.71      0.75      5193\n",
            "\n",
            "    accuracy                           0.78     15646\n",
            "   macro avg       0.78      0.78      0.78     15646\n",
            "weighted avg       0.78      0.78      0.78     15646\n",
            "\n",
            "Validation took: 0:01:00\n",
            "\n",
            "Training:\n",
            "Batch   100  of  1,467.    Time: 0:00:47.\n",
            "Batch   200  of  1,467.    Time: 0:01:34.\n",
            "Batch   300  of  1,467.    Time: 0:02:22.\n",
            "Batch   400  of  1,467.    Time: 0:03:09.\n",
            "Batch   500  of  1,467.    Time: 0:03:57.\n",
            "Batch   600  of  1,467.    Time: 0:04:45.\n",
            "Batch   700  of  1,467.    Time: 0:05:32.\n",
            "Batch   800  of  1,467.    Time: 0:06:20.\n",
            "Batch   900  of  1,467.    Time: 0:07:07.\n",
            "Batch 1,000  of  1,467.    Time: 0:07:55.\n",
            "Batch 1,100  of  1,467.    Time: 0:08:42.\n",
            "Batch 1,200  of  1,467.    Time: 0:09:30.\n",
            "Batch 1,300  of  1,467.    Time: 0:10:18.\n",
            "Batch 1,400  of  1,467.    Time: 0:11:05.\n",
            "Mean loss:  0.00037542038673566954\n",
            "Training epoch took: 0:11:37\n",
            "\n",
            "Validation:\n",
            "              precision    recall  f1-score   support\n",
            "\n",
            "           0       0.68      0.69      0.68      5286\n",
            "           1       0.91      0.88      0.89      5167\n",
            "           2       0.75      0.76      0.75      5193\n",
            "\n",
            "    accuracy                           0.77     15646\n",
            "   macro avg       0.78      0.78      0.78     15646\n",
            "weighted avg       0.78      0.77      0.78     15646\n",
            "\n",
            "Validation took: 0:01:00\n",
            "\n"
          ]
        }
      ],
      "source": [
        "from datetime import timedelta\n",
        "import time\n",
        "from sklearn.metrics import classification_report\n",
        "import numpy as np\n",
        "\n",
        "device = torch.device(\"cuda\")\n",
        "seed = 42\n",
        "random.seed = (seed)\n",
        "np.random.seed(seed)\n",
        "torch.manual_seed(seed)\n",
        "torch.cuda.manual_seed_all(seed)\n",
        "model.cuda()\n",
        "\n",
        "losses = []\n",
        "\n",
        "for epoch in range(n_epochs):\n",
        "    print(\"Training:\")\n",
        "    start = time.time()\n",
        "    mean_loss = 0\n",
        "    model.train()\n",
        "    for step, batch in enumerate(train_dataloader):\n",
        "        \n",
        "        torch.cuda.empty_cache()\n",
        "        if (step + 1) % 100 == 0:\n",
        "            duration = timedelta(seconds=int(time.time() - start))\n",
        "            print('Batch {:>5,}  of  {:>5,}.    Time: {:}.'.format(step + 1, len(train_dataloader), duration))\n",
        "        b_input_ids = batch[0].to(device)\n",
        "        b_attention_masks = batch[1].to(device)\n",
        "        b_targets = batch[2].to(device)\n",
        "        model.zero_grad()\n",
        "        \n",
        "        torch.cuda.empty_cache()\n",
        "        outputs = model(b_input_ids, attention_mask=b_attention_masks, labels = b_targets)\n",
        "        loss = outputs[0]\n",
        "        \n",
        "        mean_loss += loss.item()\n",
        "        loss.backward()\n",
        "        torch.nn.utils.clip_grad_norm_(model.parameters(), 1.0)\n",
        "        optimizer.step()\n",
        "        scheduler.step()\n",
        "\n",
        "        mean_loss = mean_loss / len(train_dataloader)\n",
        "    \n",
        "    losses.append(mean_loss)\n",
        "    print(\"Mean loss: \" , mean_loss)\n",
        "    print(\"Training epoch took:\" , timedelta(seconds=int(time.time() - start)))\n",
        "    \n",
        "    print()\n",
        "    print(\"Validation:\")\n",
        "    model.eval()\n",
        "    \n",
        "    start = time.time()\n",
        "    predictions = torch.Tensor().to(dtype=torch.int8)\n",
        "    \n",
        "    for batch in val_dataloader:\n",
        "        \n",
        "        b_input_ids = batch[0].to(device)\n",
        "        b_attention_masks = batch[1].to(device)\n",
        "        b_targets = batch[2].to(device)\n",
        "        \n",
        "        with torch.no_grad():\n",
        "            outputs = model(b_input_ids, attention_mask=b_attention_masks, output_hidden_states=False, output_attentions=False, return_dict=True)\n",
        "        \n",
        "        predictions = torch.cat((predictions, outputs.logits.cpu().argmax(axis=1)))\n",
        "        torch.cuda.empty_cache()\n",
        "        \n",
        "    print(classification_report(val_y, predictions))\n",
        "    print(\"Validation took: {:}\".format(timedelta(seconds = int(time.time() - start))))\n",
        "    print()"
      ]
    },
    {
      "cell_type": "markdown",
      "metadata": {
        "id": "oLLwLdw7N2qd"
      },
      "source": [
        "**Тестирование модели**"
      ]
    },
    {
      "cell_type": "code",
      "execution_count": 24,
      "metadata": {
        "colab": {
          "base_uri": "https://localhost:8080/"
        },
        "id": "SJu96aQoPpRX",
        "outputId": "7ff996cf-0f7d-4cbd-eda9-7761aeb6b47e"
      },
      "outputs": [
        {
          "output_type": "stream",
          "name": "stdout",
          "text": [
            "Testing:\n",
            "              precision    recall  f1-score   support\n",
            "\n",
            "           0       0.64      0.69      0.66      5000\n",
            "           1       0.91      0.87      0.89      5427\n",
            "           2       0.76      0.74      0.75      5218\n",
            "\n",
            "    accuracy                           0.77     15645\n",
            "   macro avg       0.77      0.77      0.77     15645\n",
            "weighted avg       0.77      0.77      0.77     15645\n",
            "\n"
          ]
        }
      ],
      "source": [
        "print(\"Testing:\")\n",
        "model.eval()\n",
        "\n",
        "t0 = time.time()\n",
        "predictions = torch.Tensor().to(dtype=torch.int8)\n",
        "\n",
        "for batch in test_dataloader:\n",
        "\n",
        "    b_input_ids = batch[0].to(device)\n",
        "    b_attention_masks = batch[1].to(device)\n",
        "\n",
        "    with torch.no_grad():\n",
        "        outputs = model(b_input_ids, attention_mask=b_attention_masks, output_hidden_states=False, output_attentions=False, return_dict=True)\n",
        "\n",
        "    predictions = torch.cat((predictions, outputs.logits.cpu().argmax(axis=1)))\n",
        "\n",
        "print(classification_report(test_y ,predictions))"
      ]
    }
  ],
  "metadata": {
    "colab": {
      "provenance": []
    },
    "gpuClass": "standard",
    "kernelspec": {
      "display_name": "Python 3",
      "name": "python3"
    },
    "language_info": {
      "name": "python"
    },
    "widgets": {
      "application/vnd.jupyter.widget-state+json": {
        "04a8307ee76e44cabadacb31a2a6a487": {
          "model_module": "@jupyter-widgets/controls",
          "model_name": "HBoxModel",
          "model_module_version": "1.5.0",
          "state": {
            "_dom_classes": [],
            "_model_module": "@jupyter-widgets/controls",
            "_model_module_version": "1.5.0",
            "_model_name": "HBoxModel",
            "_view_count": null,
            "_view_module": "@jupyter-widgets/controls",
            "_view_module_version": "1.5.0",
            "_view_name": "HBoxView",
            "box_style": "",
            "children": [
              "IPY_MODEL_0b899b068b9d49ed83676a2018f905f3",
              "IPY_MODEL_f7d498041c924b98969d917f3027a354",
              "IPY_MODEL_10f1400470164e5d8792a2d1546b2ce5"
            ],
            "layout": "IPY_MODEL_114ae110e804496a9190f8a3c4b4c7e2"
          }
        },
        "0b899b068b9d49ed83676a2018f905f3": {
          "model_module": "@jupyter-widgets/controls",
          "model_name": "HTMLModel",
          "model_module_version": "1.5.0",
          "state": {
            "_dom_classes": [],
            "_model_module": "@jupyter-widgets/controls",
            "_model_module_version": "1.5.0",
            "_model_name": "HTMLModel",
            "_view_count": null,
            "_view_module": "@jupyter-widgets/controls",
            "_view_module_version": "1.5.0",
            "_view_name": "HTMLView",
            "description": "",
            "description_tooltip": null,
            "layout": "IPY_MODEL_a3be8797a31f41e1b54a8fa9ab038813",
            "placeholder": "​",
            "style": "IPY_MODEL_3442d5bc7c314f3791242cdfcea3cf0f",
            "value": "Downloading: 100%"
          }
        },
        "f7d498041c924b98969d917f3027a354": {
          "model_module": "@jupyter-widgets/controls",
          "model_name": "FloatProgressModel",
          "model_module_version": "1.5.0",
          "state": {
            "_dom_classes": [],
            "_model_module": "@jupyter-widgets/controls",
            "_model_module_version": "1.5.0",
            "_model_name": "FloatProgressModel",
            "_view_count": null,
            "_view_module": "@jupyter-widgets/controls",
            "_view_module_version": "1.5.0",
            "_view_name": "ProgressView",
            "bar_style": "success",
            "description": "",
            "description_tooltip": null,
            "layout": "IPY_MODEL_f3f3faeb586d475cbb7d3d0656b69d0c",
            "max": 632,
            "min": 0,
            "orientation": "horizontal",
            "style": "IPY_MODEL_eb0856c449eb4168ac18ac6ca9d4313c",
            "value": 632
          }
        },
        "10f1400470164e5d8792a2d1546b2ce5": {
          "model_module": "@jupyter-widgets/controls",
          "model_name": "HTMLModel",
          "model_module_version": "1.5.0",
          "state": {
            "_dom_classes": [],
            "_model_module": "@jupyter-widgets/controls",
            "_model_module_version": "1.5.0",
            "_model_name": "HTMLModel",
            "_view_count": null,
            "_view_module": "@jupyter-widgets/controls",
            "_view_module_version": "1.5.0",
            "_view_name": "HTMLView",
            "description": "",
            "description_tooltip": null,
            "layout": "IPY_MODEL_f88a3b8acca44a49ad3b917e8209e2aa",
            "placeholder": "​",
            "style": "IPY_MODEL_f64cb89bde7b4b34aa3a3c39b9fb414b",
            "value": " 632/632 [00:00&lt;00:00, 3.75kB/s]"
          }
        },
        "114ae110e804496a9190f8a3c4b4c7e2": {
          "model_module": "@jupyter-widgets/base",
          "model_name": "LayoutModel",
          "model_module_version": "1.2.0",
          "state": {
            "_model_module": "@jupyter-widgets/base",
            "_model_module_version": "1.2.0",
            "_model_name": "LayoutModel",
            "_view_count": null,
            "_view_module": "@jupyter-widgets/base",
            "_view_module_version": "1.2.0",
            "_view_name": "LayoutView",
            "align_content": null,
            "align_items": null,
            "align_self": null,
            "border": null,
            "bottom": null,
            "display": null,
            "flex": null,
            "flex_flow": null,
            "grid_area": null,
            "grid_auto_columns": null,
            "grid_auto_flow": null,
            "grid_auto_rows": null,
            "grid_column": null,
            "grid_gap": null,
            "grid_row": null,
            "grid_template_areas": null,
            "grid_template_columns": null,
            "grid_template_rows": null,
            "height": null,
            "justify_content": null,
            "justify_items": null,
            "left": null,
            "margin": null,
            "max_height": null,
            "max_width": null,
            "min_height": null,
            "min_width": null,
            "object_fit": null,
            "object_position": null,
            "order": null,
            "overflow": null,
            "overflow_x": null,
            "overflow_y": null,
            "padding": null,
            "right": null,
            "top": null,
            "visibility": null,
            "width": null
          }
        },
        "a3be8797a31f41e1b54a8fa9ab038813": {
          "model_module": "@jupyter-widgets/base",
          "model_name": "LayoutModel",
          "model_module_version": "1.2.0",
          "state": {
            "_model_module": "@jupyter-widgets/base",
            "_model_module_version": "1.2.0",
            "_model_name": "LayoutModel",
            "_view_count": null,
            "_view_module": "@jupyter-widgets/base",
            "_view_module_version": "1.2.0",
            "_view_name": "LayoutView",
            "align_content": null,
            "align_items": null,
            "align_self": null,
            "border": null,
            "bottom": null,
            "display": null,
            "flex": null,
            "flex_flow": null,
            "grid_area": null,
            "grid_auto_columns": null,
            "grid_auto_flow": null,
            "grid_auto_rows": null,
            "grid_column": null,
            "grid_gap": null,
            "grid_row": null,
            "grid_template_areas": null,
            "grid_template_columns": null,
            "grid_template_rows": null,
            "height": null,
            "justify_content": null,
            "justify_items": null,
            "left": null,
            "margin": null,
            "max_height": null,
            "max_width": null,
            "min_height": null,
            "min_width": null,
            "object_fit": null,
            "object_position": null,
            "order": null,
            "overflow": null,
            "overflow_x": null,
            "overflow_y": null,
            "padding": null,
            "right": null,
            "top": null,
            "visibility": null,
            "width": null
          }
        },
        "3442d5bc7c314f3791242cdfcea3cf0f": {
          "model_module": "@jupyter-widgets/controls",
          "model_name": "DescriptionStyleModel",
          "model_module_version": "1.5.0",
          "state": {
            "_model_module": "@jupyter-widgets/controls",
            "_model_module_version": "1.5.0",
            "_model_name": "DescriptionStyleModel",
            "_view_count": null,
            "_view_module": "@jupyter-widgets/base",
            "_view_module_version": "1.2.0",
            "_view_name": "StyleView",
            "description_width": ""
          }
        },
        "f3f3faeb586d475cbb7d3d0656b69d0c": {
          "model_module": "@jupyter-widgets/base",
          "model_name": "LayoutModel",
          "model_module_version": "1.2.0",
          "state": {
            "_model_module": "@jupyter-widgets/base",
            "_model_module_version": "1.2.0",
            "_model_name": "LayoutModel",
            "_view_count": null,
            "_view_module": "@jupyter-widgets/base",
            "_view_module_version": "1.2.0",
            "_view_name": "LayoutView",
            "align_content": null,
            "align_items": null,
            "align_self": null,
            "border": null,
            "bottom": null,
            "display": null,
            "flex": null,
            "flex_flow": null,
            "grid_area": null,
            "grid_auto_columns": null,
            "grid_auto_flow": null,
            "grid_auto_rows": null,
            "grid_column": null,
            "grid_gap": null,
            "grid_row": null,
            "grid_template_areas": null,
            "grid_template_columns": null,
            "grid_template_rows": null,
            "height": null,
            "justify_content": null,
            "justify_items": null,
            "left": null,
            "margin": null,
            "max_height": null,
            "max_width": null,
            "min_height": null,
            "min_width": null,
            "object_fit": null,
            "object_position": null,
            "order": null,
            "overflow": null,
            "overflow_x": null,
            "overflow_y": null,
            "padding": null,
            "right": null,
            "top": null,
            "visibility": null,
            "width": null
          }
        },
        "eb0856c449eb4168ac18ac6ca9d4313c": {
          "model_module": "@jupyter-widgets/controls",
          "model_name": "ProgressStyleModel",
          "model_module_version": "1.5.0",
          "state": {
            "_model_module": "@jupyter-widgets/controls",
            "_model_module_version": "1.5.0",
            "_model_name": "ProgressStyleModel",
            "_view_count": null,
            "_view_module": "@jupyter-widgets/base",
            "_view_module_version": "1.2.0",
            "_view_name": "StyleView",
            "bar_color": null,
            "description_width": ""
          }
        },
        "f88a3b8acca44a49ad3b917e8209e2aa": {
          "model_module": "@jupyter-widgets/base",
          "model_name": "LayoutModel",
          "model_module_version": "1.2.0",
          "state": {
            "_model_module": "@jupyter-widgets/base",
            "_model_module_version": "1.2.0",
            "_model_name": "LayoutModel",
            "_view_count": null,
            "_view_module": "@jupyter-widgets/base",
            "_view_module_version": "1.2.0",
            "_view_name": "LayoutView",
            "align_content": null,
            "align_items": null,
            "align_self": null,
            "border": null,
            "bottom": null,
            "display": null,
            "flex": null,
            "flex_flow": null,
            "grid_area": null,
            "grid_auto_columns": null,
            "grid_auto_flow": null,
            "grid_auto_rows": null,
            "grid_column": null,
            "grid_gap": null,
            "grid_row": null,
            "grid_template_areas": null,
            "grid_template_columns": null,
            "grid_template_rows": null,
            "height": null,
            "justify_content": null,
            "justify_items": null,
            "left": null,
            "margin": null,
            "max_height": null,
            "max_width": null,
            "min_height": null,
            "min_width": null,
            "object_fit": null,
            "object_position": null,
            "order": null,
            "overflow": null,
            "overflow_x": null,
            "overflow_y": null,
            "padding": null,
            "right": null,
            "top": null,
            "visibility": null,
            "width": null
          }
        },
        "f64cb89bde7b4b34aa3a3c39b9fb414b": {
          "model_module": "@jupyter-widgets/controls",
          "model_name": "DescriptionStyleModel",
          "model_module_version": "1.5.0",
          "state": {
            "_model_module": "@jupyter-widgets/controls",
            "_model_module_version": "1.5.0",
            "_model_name": "DescriptionStyleModel",
            "_view_count": null,
            "_view_module": "@jupyter-widgets/base",
            "_view_module_version": "1.2.0",
            "_view_name": "StyleView",
            "description_width": ""
          }
        },
        "08521f21225346ccbc612a1323b8423c": {
          "model_module": "@jupyter-widgets/controls",
          "model_name": "HBoxModel",
          "model_module_version": "1.5.0",
          "state": {
            "_dom_classes": [],
            "_model_module": "@jupyter-widgets/controls",
            "_model_module_version": "1.5.0",
            "_model_name": "HBoxModel",
            "_view_count": null,
            "_view_module": "@jupyter-widgets/controls",
            "_view_module_version": "1.5.0",
            "_view_name": "HBoxView",
            "box_style": "",
            "children": [
              "IPY_MODEL_d4223ed22fe84e7eaeb1f3b83c754f5b",
              "IPY_MODEL_a2e9f44cd89c41e388c84d9555835a68",
              "IPY_MODEL_43eda8ff6f4e4c948203b20f8f49a39a"
            ],
            "layout": "IPY_MODEL_7d8bf4583dbb4c49bb77a17670cced82"
          }
        },
        "d4223ed22fe84e7eaeb1f3b83c754f5b": {
          "model_module": "@jupyter-widgets/controls",
          "model_name": "HTMLModel",
          "model_module_version": "1.5.0",
          "state": {
            "_dom_classes": [],
            "_model_module": "@jupyter-widgets/controls",
            "_model_module_version": "1.5.0",
            "_model_name": "HTMLModel",
            "_view_count": null,
            "_view_module": "@jupyter-widgets/controls",
            "_view_module_version": "1.5.0",
            "_view_name": "HTMLView",
            "description": "",
            "description_tooltip": null,
            "layout": "IPY_MODEL_4e0a40a1ba0b4aeca681837ce6c10d51",
            "placeholder": "​",
            "style": "IPY_MODEL_ec37680941c5426f8f736e68aaa79577",
            "value": "Downloading: 100%"
          }
        },
        "a2e9f44cd89c41e388c84d9555835a68": {
          "model_module": "@jupyter-widgets/controls",
          "model_name": "FloatProgressModel",
          "model_module_version": "1.5.0",
          "state": {
            "_dom_classes": [],
            "_model_module": "@jupyter-widgets/controls",
            "_model_module_version": "1.5.0",
            "_model_name": "FloatProgressModel",
            "_view_count": null,
            "_view_module": "@jupyter-widgets/controls",
            "_view_module_version": "1.5.0",
            "_view_name": "ProgressView",
            "bar_style": "success",
            "description": "",
            "description_tooltip": null,
            "layout": "IPY_MODEL_042c46d8c8c44605a49cb8450d45005c",
            "max": 1116393171,
            "min": 0,
            "orientation": "horizontal",
            "style": "IPY_MODEL_9095849748a14a01a1c3fce7c611d751",
            "value": 1116393171
          }
        },
        "43eda8ff6f4e4c948203b20f8f49a39a": {
          "model_module": "@jupyter-widgets/controls",
          "model_name": "HTMLModel",
          "model_module_version": "1.5.0",
          "state": {
            "_dom_classes": [],
            "_model_module": "@jupyter-widgets/controls",
            "_model_module_version": "1.5.0",
            "_model_name": "HTMLModel",
            "_view_count": null,
            "_view_module": "@jupyter-widgets/controls",
            "_view_module_version": "1.5.0",
            "_view_name": "HTMLView",
            "description": "",
            "description_tooltip": null,
            "layout": "IPY_MODEL_3f40eed9e3824532ba1b063d329594b3",
            "placeholder": "​",
            "style": "IPY_MODEL_e12c6544764c418ba8e21e4e173c41c8",
            "value": " 1.12G/1.12G [00:19&lt;00:00, 60.1MB/s]"
          }
        },
        "7d8bf4583dbb4c49bb77a17670cced82": {
          "model_module": "@jupyter-widgets/base",
          "model_name": "LayoutModel",
          "model_module_version": "1.2.0",
          "state": {
            "_model_module": "@jupyter-widgets/base",
            "_model_module_version": "1.2.0",
            "_model_name": "LayoutModel",
            "_view_count": null,
            "_view_module": "@jupyter-widgets/base",
            "_view_module_version": "1.2.0",
            "_view_name": "LayoutView",
            "align_content": null,
            "align_items": null,
            "align_self": null,
            "border": null,
            "bottom": null,
            "display": null,
            "flex": null,
            "flex_flow": null,
            "grid_area": null,
            "grid_auto_columns": null,
            "grid_auto_flow": null,
            "grid_auto_rows": null,
            "grid_column": null,
            "grid_gap": null,
            "grid_row": null,
            "grid_template_areas": null,
            "grid_template_columns": null,
            "grid_template_rows": null,
            "height": null,
            "justify_content": null,
            "justify_items": null,
            "left": null,
            "margin": null,
            "max_height": null,
            "max_width": null,
            "min_height": null,
            "min_width": null,
            "object_fit": null,
            "object_position": null,
            "order": null,
            "overflow": null,
            "overflow_x": null,
            "overflow_y": null,
            "padding": null,
            "right": null,
            "top": null,
            "visibility": null,
            "width": null
          }
        },
        "4e0a40a1ba0b4aeca681837ce6c10d51": {
          "model_module": "@jupyter-widgets/base",
          "model_name": "LayoutModel",
          "model_module_version": "1.2.0",
          "state": {
            "_model_module": "@jupyter-widgets/base",
            "_model_module_version": "1.2.0",
            "_model_name": "LayoutModel",
            "_view_count": null,
            "_view_module": "@jupyter-widgets/base",
            "_view_module_version": "1.2.0",
            "_view_name": "LayoutView",
            "align_content": null,
            "align_items": null,
            "align_self": null,
            "border": null,
            "bottom": null,
            "display": null,
            "flex": null,
            "flex_flow": null,
            "grid_area": null,
            "grid_auto_columns": null,
            "grid_auto_flow": null,
            "grid_auto_rows": null,
            "grid_column": null,
            "grid_gap": null,
            "grid_row": null,
            "grid_template_areas": null,
            "grid_template_columns": null,
            "grid_template_rows": null,
            "height": null,
            "justify_content": null,
            "justify_items": null,
            "left": null,
            "margin": null,
            "max_height": null,
            "max_width": null,
            "min_height": null,
            "min_width": null,
            "object_fit": null,
            "object_position": null,
            "order": null,
            "overflow": null,
            "overflow_x": null,
            "overflow_y": null,
            "padding": null,
            "right": null,
            "top": null,
            "visibility": null,
            "width": null
          }
        },
        "ec37680941c5426f8f736e68aaa79577": {
          "model_module": "@jupyter-widgets/controls",
          "model_name": "DescriptionStyleModel",
          "model_module_version": "1.5.0",
          "state": {
            "_model_module": "@jupyter-widgets/controls",
            "_model_module_version": "1.5.0",
            "_model_name": "DescriptionStyleModel",
            "_view_count": null,
            "_view_module": "@jupyter-widgets/base",
            "_view_module_version": "1.2.0",
            "_view_name": "StyleView",
            "description_width": ""
          }
        },
        "042c46d8c8c44605a49cb8450d45005c": {
          "model_module": "@jupyter-widgets/base",
          "model_name": "LayoutModel",
          "model_module_version": "1.2.0",
          "state": {
            "_model_module": "@jupyter-widgets/base",
            "_model_module_version": "1.2.0",
            "_model_name": "LayoutModel",
            "_view_count": null,
            "_view_module": "@jupyter-widgets/base",
            "_view_module_version": "1.2.0",
            "_view_name": "LayoutView",
            "align_content": null,
            "align_items": null,
            "align_self": null,
            "border": null,
            "bottom": null,
            "display": null,
            "flex": null,
            "flex_flow": null,
            "grid_area": null,
            "grid_auto_columns": null,
            "grid_auto_flow": null,
            "grid_auto_rows": null,
            "grid_column": null,
            "grid_gap": null,
            "grid_row": null,
            "grid_template_areas": null,
            "grid_template_columns": null,
            "grid_template_rows": null,
            "height": null,
            "justify_content": null,
            "justify_items": null,
            "left": null,
            "margin": null,
            "max_height": null,
            "max_width": null,
            "min_height": null,
            "min_width": null,
            "object_fit": null,
            "object_position": null,
            "order": null,
            "overflow": null,
            "overflow_x": null,
            "overflow_y": null,
            "padding": null,
            "right": null,
            "top": null,
            "visibility": null,
            "width": null
          }
        },
        "9095849748a14a01a1c3fce7c611d751": {
          "model_module": "@jupyter-widgets/controls",
          "model_name": "ProgressStyleModel",
          "model_module_version": "1.5.0",
          "state": {
            "_model_module": "@jupyter-widgets/controls",
            "_model_module_version": "1.5.0",
            "_model_name": "ProgressStyleModel",
            "_view_count": null,
            "_view_module": "@jupyter-widgets/base",
            "_view_module_version": "1.2.0",
            "_view_name": "StyleView",
            "bar_color": null,
            "description_width": ""
          }
        },
        "3f40eed9e3824532ba1b063d329594b3": {
          "model_module": "@jupyter-widgets/base",
          "model_name": "LayoutModel",
          "model_module_version": "1.2.0",
          "state": {
            "_model_module": "@jupyter-widgets/base",
            "_model_module_version": "1.2.0",
            "_model_name": "LayoutModel",
            "_view_count": null,
            "_view_module": "@jupyter-widgets/base",
            "_view_module_version": "1.2.0",
            "_view_name": "LayoutView",
            "align_content": null,
            "align_items": null,
            "align_self": null,
            "border": null,
            "bottom": null,
            "display": null,
            "flex": null,
            "flex_flow": null,
            "grid_area": null,
            "grid_auto_columns": null,
            "grid_auto_flow": null,
            "grid_auto_rows": null,
            "grid_column": null,
            "grid_gap": null,
            "grid_row": null,
            "grid_template_areas": null,
            "grid_template_columns": null,
            "grid_template_rows": null,
            "height": null,
            "justify_content": null,
            "justify_items": null,
            "left": null,
            "margin": null,
            "max_height": null,
            "max_width": null,
            "min_height": null,
            "min_width": null,
            "object_fit": null,
            "object_position": null,
            "order": null,
            "overflow": null,
            "overflow_x": null,
            "overflow_y": null,
            "padding": null,
            "right": null,
            "top": null,
            "visibility": null,
            "width": null
          }
        },
        "e12c6544764c418ba8e21e4e173c41c8": {
          "model_module": "@jupyter-widgets/controls",
          "model_name": "DescriptionStyleModel",
          "model_module_version": "1.5.0",
          "state": {
            "_model_module": "@jupyter-widgets/controls",
            "_model_module_version": "1.5.0",
            "_model_name": "DescriptionStyleModel",
            "_view_count": null,
            "_view_module": "@jupyter-widgets/base",
            "_view_module_version": "1.2.0",
            "_view_name": "StyleView",
            "description_width": ""
          }
        }
      }
    },
    "accelerator": "GPU"
  },
  "nbformat": 4,
  "nbformat_minor": 0
}