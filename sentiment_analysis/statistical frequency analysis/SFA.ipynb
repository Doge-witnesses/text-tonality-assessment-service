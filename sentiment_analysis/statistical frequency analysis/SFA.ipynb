{
  "nbformat": 4,
  "nbformat_minor": 0,
  "metadata": {
    "colab": {
      "provenance": [],
      "collapsed_sections": []
    },
    "kernelspec": {
      "name": "python3",
      "display_name": "Python 3"
    },
    "language_info": {
      "name": "python"
    }
  },
  "cells": [
    {
      "cell_type": "code",
      "execution_count": 13,
      "metadata": {
        "id": "N5o8TkmCO3Wv"
      },
      "outputs": [],
      "source": [
        "import pandas as pd\n",
        "import tqdm\n",
        "import matplotlib.pyplot as plt\n",
        "from sklearn.linear_model import SGDRegressor\n",
        "from sklearn.metrics import mean_squared_error\n",
        "from sklearn.preprocessing import StandardScaler\n",
        "import numpy as np"
      ]
    },
    {
      "cell_type": "code",
      "source": [
        "ds_hotel = pd.read_csv('hotel.csv')\n",
        "ds_reviews = pd.read_csv('reviews.csv')\n",
        "ds_wb = pd.read_csv('wildberries.csv')\n",
        "ds_women = pd.read_csv('women.csv', lineterminator='\\n')\n",
        "ds_phone = pd.read_csv('phone.csv')\n",
        "\n",
        "dataset = pd.concat([ds_hotel, ds_reviews, ds_wb, ds_phone, ds_women], join='outer')\n",
        "dataset = dataset.dropna() # Были замечены строчки с nan\n",
        "dataset = dataset.reset_index(drop=True)\n",
        "dataset = dataset.drop(columns=['id'], axis = 1)"
      ],
      "metadata": {
        "id": "Pe4amegS_QXH"
      },
      "execution_count": 14,
      "outputs": []
    },
    {
      "cell_type": "markdown",
      "source": [
        "### **№1**\n",
        "**Считаем полную частоту каждого слова в датасете**"
      ],
      "metadata": {
        "id": "6i61-iVdOdna"
      }
    },
    {
      "cell_type": "code",
      "source": [
        "for i in 'аяАЯёЁ ':\n",
        "  print(i, ord(i))"
      ],
      "metadata": {
        "id": "BktYeEaSZsaF",
        "colab": {
          "base_uri": "https://localhost:8080/"
        },
        "outputId": "0b2a55a0-cde9-4901-a425-8d609bda234d"
      },
      "execution_count": 15,
      "outputs": [
        {
          "output_type": "stream",
          "name": "stdout",
          "text": [
            "а 1072\n",
            "я 1103\n",
            "А 1040\n",
            "Я 1071\n",
            "ё 1105\n",
            "Ё 1025\n",
            "  32\n"
          ]
        }
      ]
    },
    {
      "cell_type": "code",
      "source": [
        "def text_ru_clear(txt : str) -> str:\n",
        "  # Оставить в тексте только словообразующие символы\n",
        "  for letter in txt:\n",
        "    x = ord(letter)\n",
        "    if (x >= 1072 and x <= 1103) or (x >= 1040 and x <= 1071) or x == 1105 or x == 1025 or x == 32:\n",
        "      continue\n",
        "    else:\n",
        "      txt = txt.replace(letter, '')\n",
        "  while '  ' in txt:\n",
        "    txt = txt.replace('  ', ' ')\n",
        "  return txt "
      ],
      "metadata": {
        "id": "8PjI-CkGQNZy"
      },
      "execution_count": 16,
      "outputs": []
    },
    {
      "cell_type": "code",
      "source": [
        "texts = dataset._get_column_array(0)\n",
        "labels = dataset._get_column_array(1)"
      ],
      "metadata": {
        "id": "XAmpLIn1qCw9"
      },
      "execution_count": 17,
      "outputs": []
    },
    {
      "cell_type": "code",
      "source": [
        "# Стандартизация текстов отзывов и приведение к виду списка\n",
        "\n",
        "with tqdm.trange(len(dataset)) as t:\n",
        "  for i in t:\n",
        "    texts[i] = text_ru_clear(texts[i])\n",
        "    texts[i] = texts[i].split(' ')\n",
        "    for j in range(len(texts[i])):\n",
        "      texts[i][j] = texts[i][j].lower()"
      ],
      "metadata": {
        "id": "-5xiNXxkPOdS",
        "colab": {
          "base_uri": "https://localhost:8080/"
        },
        "outputId": "af781712-7e76-42e9-d3c1-cee88f5086c1"
      },
      "execution_count": 18,
      "outputs": [
        {
          "output_type": "stream",
          "name": "stderr",
          "text": [
            "100%|██████████| 808171/808171 [01:35<00:00, 8427.36it/s] \n"
          ]
        }
      ]
    },
    {
      "cell_type": "code",
      "source": [
        "# Подсчет частоты\n",
        "F_true = {}\n",
        "Q_true = {}\n",
        "\n",
        "with tqdm.trange(len(dataset)) as t:\n",
        "  for i in t:\n",
        "    for word in texts[i]:\n",
        "      count = F_true.get(word,0)\n",
        "      F_true[word] = count + 1\n",
        "      Q_true[word] = count + 1\n",
        "     \n",
        "frequency_list = F_true.keys()"
      ],
      "metadata": {
        "id": "G7M5c5OI3bEk",
        "colab": {
          "base_uri": "https://localhost:8080/"
        },
        "outputId": "f1271a4f-87b0-4d1f-a928-6d9c3989c853"
      },
      "execution_count": 19,
      "outputs": [
        {
          "output_type": "stream",
          "name": "stderr",
          "text": [
            "100%|██████████| 808171/808171 [00:34<00:00, 23693.57it/s]\n"
          ]
        }
      ]
    },
    {
      "cell_type": "code",
      "source": [
        "# Приведем к частоте, разделив на общее число слов в датасете\n",
        "for word in frequency_list:\n",
        "  F_true[word] = F_true[word]/len(dataset)"
      ],
      "metadata": {
        "id": "ZXTtYo6ZnGdW"
      },
      "execution_count": 20,
      "outputs": []
    },
    {
      "cell_type": "code",
      "source": [
        "WF = pd.DataFrame([[word, F_true[word]] for word in frequency_list], columns=['word', 'F_true'])"
      ],
      "metadata": {
        "id": "kk7kfAdPoDs5"
      },
      "execution_count": 21,
      "outputs": []
    },
    {
      "cell_type": "code",
      "source": [
        "print(WF)"
      ],
      "metadata": {
        "id": "yJ-8p6o56-VP",
        "colab": {
          "base_uri": "https://localhost:8080/"
        },
        "outputId": "e3ada71d-7564-43d7-c26f-41dd6d92274d"
      },
      "execution_count": 22,
      "outputs": [
        {
          "output_type": "stream",
          "name": "stdout",
          "text": [
            "                      word    F_true\n",
            "0                    очень  0.403794\n",
            "1                достойный  0.009960\n",
            "2                    отель  0.064398\n",
            "3                        с  0.515094\n",
            "4              прекрасными  0.000196\n",
            "...                    ...       ...\n",
            "630637      цветовпродавца  0.000001\n",
            "630638   идеальнонасколько  0.000001\n",
            "630639         блузкесшита  0.000001\n",
            "630640  справитсяразмерная  0.000001\n",
            "630641              провдо  0.000001\n",
            "\n",
            "[630642 rows x 2 columns]\n"
          ]
        }
      ]
    },
    {
      "cell_type": "code",
      "source": [
        "print(WF.sort_values(by='F_true', ascending=False))"
      ],
      "metadata": {
        "id": "4O_p5xoU9uD2",
        "colab": {
          "base_uri": "https://localhost:8080/"
        },
        "outputId": "c0aafe33-0d05-4c5f-cdad-d14224dab971"
      },
      "execution_count": 23,
      "outputs": [
        {
          "output_type": "stream",
          "name": "stdout",
          "text": [
            "                     word    F_true\n",
            "10                      и  1.338521\n",
            "16                     не  1.254876\n",
            "36                      в  1.162927\n",
            "13                     на  0.834808\n",
            "3                       с  0.515094\n",
            "...                   ...       ...\n",
            "143103       москвепервый  0.000001\n",
            "422000         понялазвук  0.000001\n",
            "143104            стмвднх  0.000001\n",
            "143105  выборценакачество  0.000001\n",
            "630641             провдо  0.000001\n",
            "\n",
            "[630642 rows x 2 columns]\n"
          ]
        }
      ]
    },
    {
      "cell_type": "markdown",
      "source": [
        "### **№2**\n",
        "**Считаем частоту каждого слова в отрицательной части датасета**"
      ],
      "metadata": {
        "id": "iu27Q_GOmjGS"
      }
    },
    {
      "cell_type": "code",
      "source": [
        "dataset_negative = dataset[dataset['label'].isin([-1])]\n",
        "dataset_negative = dataset_negative.reset_index(drop=True)"
      ],
      "metadata": {
        "id": "iCD17lNlmwlv"
      },
      "execution_count": 24,
      "outputs": []
    },
    {
      "cell_type": "code",
      "source": [
        "texts_n = dataset_negative._get_column_array(0)"
      ],
      "metadata": {
        "id": "DtSzY7f1qgv4"
      },
      "execution_count": 25,
      "outputs": []
    },
    {
      "cell_type": "code",
      "source": [
        "F_negative = {}\n",
        "Q_negative = {}\n",
        "\n",
        "for i in range(len(dataset)):\n",
        "  for word in texts[i]:\n",
        "    F_negative[word] = 0\n",
        "    Q_negative[word] = 0\n",
        "for i in range(len(dataset_negative)):\n",
        "  for word in texts_n[i]:\n",
        "    count = F_negative.get(word, 0)\n",
        "    F_negative[word] = count + 1\n",
        "    Q_negative[word] = count + 1\n",
        "\n",
        "frequency_list = F_true.keys()"
      ],
      "metadata": {
        "id": "9E_CbGTdphSx"
      },
      "execution_count": 26,
      "outputs": []
    },
    {
      "cell_type": "code",
      "source": [
        "for word in frequency_list:\n",
        "  F_negative[word] = F_negative[word]/len(dataset_negative)"
      ],
      "metadata": {
        "id": "NyhZejL3xmsF"
      },
      "execution_count": 27,
      "outputs": []
    },
    {
      "cell_type": "code",
      "source": [
        "WF_n = pd.DataFrame([[word, F_negative[word]] for word in frequency_list], columns=['word', 'F_negative'])"
      ],
      "metadata": {
        "id": "qVrAj8MKvDM0"
      },
      "execution_count": 28,
      "outputs": []
    },
    {
      "cell_type": "code",
      "source": [
        "print(WF_n)"
      ],
      "metadata": {
        "id": "frgmA9eQvS7r",
        "colab": {
          "base_uri": "https://localhost:8080/"
        },
        "outputId": "208a8790-3fd2-4f27-f5de-0c06a5fe2d08"
      },
      "execution_count": 29,
      "outputs": [
        {
          "output_type": "stream",
          "name": "stdout",
          "text": [
            "                      word  F_negative\n",
            "0                    очень    0.299459\n",
            "1                достойный    0.003290\n",
            "2                    отель    0.049955\n",
            "3                        с    0.583545\n",
            "4              прекрасными    0.000100\n",
            "...                    ...         ...\n",
            "630637      цветовпродавца    0.000000\n",
            "630638   идеальнонасколько    0.000000\n",
            "630639         блузкесшита    0.000000\n",
            "630640  справитсяразмерная    0.000000\n",
            "630641              провдо    0.000000\n",
            "\n",
            "[630642 rows x 2 columns]\n"
          ]
        }
      ]
    },
    {
      "cell_type": "code",
      "source": [
        "print(WF_n.sort_values(by='F_negative', ascending=False))"
      ],
      "metadata": {
        "id": "xNsBM1w0vv36",
        "colab": {
          "base_uri": "https://localhost:8080/"
        },
        "outputId": "eaa96e02-8997-4be9-b8b7-3cad53175f8b"
      },
      "execution_count": 30,
      "outputs": [
        {
          "output_type": "stream",
          "name": "stdout",
          "text": [
            "                        word  F_negative\n",
            "16                        не    1.710583\n",
            "10                         и    1.457353\n",
            "36                         в    1.313310\n",
            "13                        на    0.940241\n",
            "3                          с    0.583545\n",
            "...                      ...         ...\n",
            "325059           следующеена    0.000000\n",
            "325058  предыдущемпорадовало    0.000000\n",
            "325057             личнохотя    0.000000\n",
            "325056          кассыбыстрый    0.000000\n",
            "630641                провдо    0.000000\n",
            "\n",
            "[630642 rows x 2 columns]\n"
          ]
        }
      ]
    },
    {
      "cell_type": "code",
      "source": [
        "# датафрейм с частотами\n",
        "main_df = pd.DataFrame([[word, F_true[word], F_negative[word], F_negative[word]/F_true[word]] for word in frequency_list], columns=['word', 'F_true', 'F_negative', 'power_n'])\n",
        "main_df = main_df[main_df.F_true > 0.0001]\n",
        "main_df = main_df.reset_index(drop=True)"
      ],
      "metadata": {
        "id": "m4l2eHLXyh9e"
      },
      "execution_count": 31,
      "outputs": []
    },
    {
      "cell_type": "code",
      "source": [
        "# датафрейм с количествами\n",
        "Q_df = pd.DataFrame([[word, Q_true[word], Q_negative[word], Q_negative[word]/Q_true[word]] for word in frequency_list], columns=['word', 'Q_true', 'Q_negative', 'power_n'])\n",
        "Q_df = Q_df[Q_df.Q_true > 2000]\n",
        "Q_df = Q_df.reset_index(drop=True)"
      ],
      "metadata": {
        "id": "GtACRPRFsn6R"
      },
      "execution_count": 32,
      "outputs": []
    },
    {
      "cell_type": "code",
      "source": [
        "print(len(main_df))\n",
        "print(main_df.sort_values(by='power_n', ascending=False)[0:40])"
      ],
      "metadata": {
        "id": "jsQevCMa1W15",
        "colab": {
          "base_uri": "https://localhost:8080/"
        },
        "outputId": "c004086f-fc4a-4eb2-db3d-81cb6003c44a"
      },
      "execution_count": 33,
      "outputs": [
        {
          "output_type": "stream",
          "name": "stdout",
          "text": [
            "20730\n",
            "                 word    F_true  F_negative   power_n\n",
            "20725        обманщик  0.000244    0.001078  4.423540\n",
            "18370        мошенник  0.000111    0.000492  4.419255\n",
            "17930            сдаю  0.000151    0.000652  4.322388\n",
            "20324         свяжусь  0.000101    0.000431  4.250914\n",
            "15905          кормил  0.000165    0.000691  4.200103\n",
            "17139           врагу  0.000207    0.000863  4.174550\n",
            "14928    связывайтесь  0.000161    0.000647  4.022019\n",
            "19135       выкинутые  0.000156    0.000625  4.007832\n",
            "8786         отказано  0.000214    0.000846  3.952273\n",
            "20243     независимую  0.000127    0.000503  3.948260\n",
            "17670     выброшенные  0.000455    0.001797  3.946727\n",
            "16103      поберегите  0.000126    0.000498  3.943155\n",
            "14449          дерьмо  0.000142    0.000558  3.924868\n",
            "15895        прождала  0.000212    0.000829  3.920096\n",
            "11415       выброшены  0.000130    0.000509  3.915616\n",
            "14730      обещаниями  0.000125    0.000487  3.893703\n",
            "17040          выкину  0.000158    0.000614  3.875382\n",
            "18349      экспертиза  0.000236    0.000907  3.837179\n",
            "19851     разачарован  0.000145    0.000553  3.819581\n",
            "17351     намучаетесь  0.000116    0.000442  3.803327\n",
            "20497         повёлся  0.000273    0.001040  3.801606\n",
            "20728    отслеживании  0.000106    0.000404  3.793377\n",
            "17809        вмешался  0.000120    0.000453  3.777841\n",
            "19178       избавлюсь  0.000126    0.000476  3.767904\n",
            "17257        подставы  0.000109    0.000409  3.757947\n",
            "14405          худших  0.000129    0.000481  3.738415\n",
            "18477  авторизованный  0.000165    0.000614  3.729691\n",
            "19393             асц  0.000163    0.000608  3.724091\n",
            "5585         обходите  0.000147    0.000547  3.717832\n",
            "6209       сославшись  0.000116    0.000431  3.708244\n",
            "9643          повелся  0.000866    0.003202  3.696427\n",
            "10611      вздумается  0.000165    0.000608  3.696091\n",
            "16467    механическое  0.000193    0.000713  3.695444\n",
            "20711           споре  0.000142    0.000525  3.691708\n",
            "5066           никому  0.004072    0.014963  3.674527\n",
            "17180      обнаружена  0.000111    0.000409  3.674437\n",
            "12942         послали  0.000171    0.000625  3.659324\n",
            "15580       неудачная  0.000565    0.002063  3.647491\n",
            "11239            спор  0.006808    0.024789  3.641243\n",
            "8331         возврате  0.000398    0.001449  3.636193\n"
          ]
        }
      ]
    },
    {
      "cell_type": "code",
      "source": [
        "print(len(Q_df))\n",
        "print(Q_df.sort_values(by='power_n', ascending=False)[0:40])"
      ],
      "metadata": {
        "id": "CsZ9aLPmt1-U",
        "colab": {
          "base_uri": "https://localhost:8080/"
        },
        "outputId": "f5845995-3017-41ed-befa-d50afeccbce9"
      },
      "execution_count": 34,
      "outputs": [
        {
          "output_type": "stream",
          "name": "stdout",
          "text": [
            "1890\n",
            "               word  Q_true  Q_negative   power_n\n",
            "1255         никому    3291        2706  0.822242\n",
            "1629           спор    5502        4483  0.814795\n",
            "545         ужасный    3345        2622  0.783857\n",
            "1610        открыла    2428        1878  0.773476\n",
            "1433  разочарование    2739        2107  0.769259\n",
            "1693   разочарована    2086        1589  0.761745\n",
            "752     разочарован    3406        2538  0.745156\n",
            "1806      сервисный    2059        1507  0.731909\n",
            "505            ужас    3449        2512  0.728327\n",
            "1345        вернуть    3795        2742  0.722530\n",
            "973         вернули    8035        5803  0.722215\n",
            "1680           сдал    2981        2111  0.708152\n",
            "1448       начались    2163        1490  0.688858\n",
            "1263         ужасно    4491        2978  0.663104\n",
            "922          полное    2289        1493  0.652250\n",
            "1858             сц    2017        1302  0.645513\n",
            "1619         вернул    3449        2226  0.645404\n",
            "1621        сервисе    2297        1478  0.643448\n",
            "1708         товара    2139        1358  0.634876\n",
            "1717       гарантии    7146        4520  0.632522\n",
            "510         сказали    5373        3385  0.630002\n",
            "516           ждала    2561        1576  0.615385\n",
            "638         возврат    2519        1535  0.609369\n",
            "345         ремонте    2033        1222  0.601082\n",
            "430         ремонта    3308        1982  0.599154\n",
            "879      невозможно    7535        4443  0.589648\n",
            "773          ремонт    9140        5340  0.584245\n",
            "1624       перестал    6582        3840  0.583409\n",
            "701         обратно    6569        3714  0.565383\n",
            "1778       продавец   12640        6926  0.547943\n",
            "1809          куплю    4307        2334  0.541909\n",
            "1769           умер    2400        1300  0.541667\n",
            "1611           брак    5236        2795  0.533804\n",
            "1834        глючить    3188        1682  0.527604\n",
            "1174       сломался    3321        1741  0.524240\n",
            "1419         пришёл    6773        3520  0.519711\n",
            "943           стену    2011        1045  0.519642\n",
            "501        получила    4265        2201  0.516061\n",
            "1634          начал    9444        4831  0.511542\n",
            "1350          ладно    2058        1050  0.510204\n"
          ]
        }
      ]
    },
    {
      "cell_type": "markdown",
      "source": [
        "### **№4**\n",
        "Обучаем модель\n"
      ],
      "metadata": {
        "id": "Ckf7QtIkyKyh"
      }
    },
    {
      "cell_type": "code",
      "source": [
        "# Блоки данных для обучения (основаны на датафрейме с количествами)\n",
        "train_set = pd.DataFrame([[Q_df['Q_negative'][i]] for i in range(len(Q_df))], columns=['Q_negative'])\n",
        "target = pd.DataFrame([Q_df['Q_true'][i] for i in range(len(Q_df))], columns=['Q_true'])\n",
        "test_set = [[Q_negative[word]] for word in frequency_list] # полный по содержанию датасет\n",
        "target_test = pd.DataFrame([Q_true[word] for word in frequency_list], columns=['Q_true'])\n",
        "# ЗАМЕНЯЕТ РЕЗУЛЬТАТЫ БЛОКА НИЖЕ!\n",
        "# ВСЕ РЕЗУЛЬТАТЫ ПОЛУЧЕНЫ НА НИЖНЕМ БЛОКЕ"
      ],
      "metadata": {
        "id": "qMMAji9wuE5o"
      },
      "execution_count": 35,
      "outputs": []
    },
    {
      "cell_type": "code",
      "source": [
        "# Блоки данных для обучения (основаны на датафрейме с частотами)\n",
        "train_set = pd.DataFrame([[main_df['F_negative'][i]] for i in range(len(main_df))], columns=['F_negative'])\n",
        "target = pd.DataFrame([main_df['F_true'][i] for i in range(len(main_df))], columns=['F_true'])\n",
        "test_set = pd.DataFrame([[F_negative[word]] for word in frequency_list], columns=['F_negative']) # полный по содержанию датасет\n",
        "target_test = pd.DataFrame([F_true[word] for word in frequency_list], columns=['F_true'])"
      ],
      "metadata": {
        "id": "zMbrO6IIaUNB"
      },
      "execution_count": 36,
      "outputs": []
    },
    {
      "cell_type": "code",
      "source": [
        "#train_set = pd.DataFrame([F_negative[word] for word in frequency_list], columns=['F_negative'])"
      ],
      "metadata": {
        "id": "PFSSmuZ9MfZi"
      },
      "execution_count": 37,
      "outputs": []
    },
    {
      "cell_type": "code",
      "source": [
        "#target = pd.DataFrame([F_true[word] for word in frequency_list], columns=['F_true'])\n",
        "#scaler = StandardScaler()\n",
        "#scaler.fit(tr) \n",
        "#scaled_df = scaler.transform(food)"
      ],
      "metadata": {
        "id": "bzdPFartcgg4"
      },
      "execution_count": 38,
      "outputs": []
    },
    {
      "cell_type": "code",
      "source": [
        "#scaled_df = [[F_negative[word]] for word in frequency_list]"
      ],
      "metadata": {
        "id": "0e4xKFZ0WGyu"
      },
      "execution_count": 39,
      "outputs": []
    },
    {
      "cell_type": "code",
      "source": [
        "# блок инициализации и обучения модели \n",
        "linear_regression_model = SGDRegressor(tol=0.00001, eta0=1.2)\n",
        "linear_regression_model.fit(train_set, target)\n",
        "predictions = linear_regression_model.predict(test_set)\n",
        "mse = mean_squared_error(target_test, predictions) \n",
        "print(\"RMSE: {}\".format(np.sqrt(mse)))"
      ],
      "metadata": {
        "id": "Iuai1qI4z5h-",
        "colab": {
          "base_uri": "https://localhost:8080/"
        },
        "outputId": "079d1077-0bf8-42c3-af1e-6a12ec51867b"
      },
      "execution_count": 40,
      "outputs": [
        {
          "output_type": "stream",
          "name": "stdout",
          "text": [
            "RMSE: 0.0009116639044502834\n"
          ]
        },
        {
          "output_type": "stream",
          "name": "stderr",
          "text": [
            "/usr/local/lib/python3.7/dist-packages/sklearn/utils/validation.py:993: DataConversionWarning: A column-vector y was passed when a 1d array was expected. Please change the shape of y to (n_samples, ), for example using ravel().\n",
            "  y = column_or_1d(y, warn=True)\n"
          ]
        }
      ]
    },
    {
      "cell_type": "code",
      "source": [
        "'''word = input()\n",
        "prediction = linear_regression_model.predict([[F_negative[word]]])\n",
        "print('prediction:', prediction, 'reallity:', F_true[word])\n",
        "print(prediction - F_true[word])\n",
        "\n",
        "print('true:', F_negative[word]/F_true[word], 'prediction:', F_negative[word]/prediction)'''"
      ],
      "metadata": {
        "id": "8BzOwaVrM7xt",
        "colab": {
          "base_uri": "https://localhost:8080/",
          "height": 54
        },
        "outputId": "990786b7-43ee-4529-e4a7-e16a86d95f3f"
      },
      "execution_count": 41,
      "outputs": [
        {
          "output_type": "execute_result",
          "data": {
            "text/plain": [
              "\"word = input()\\nprediction = linear_regression_model.predict([[F_negative[word]]])\\nprint('prediction:', prediction, 'reallity:', F_true[word])\\nprint(prediction - F_true[word])\\n\\nprint('true:', F_negative[word]/F_true[word], 'prediction:', F_negative[word]/prediction)\""
            ],
            "application/vnd.google.colaboratory.intrinsic+json": {
              "type": "string"
            }
          },
          "metadata": {},
          "execution_count": 41
        }
      ]
    },
    {
      "cell_type": "code",
      "source": [
        "'''word = input()\n",
        "prediction = linear_regression_model.predict([[Q_negative[word]]])\n",
        "print('prediction:', prediction, 'reallity:', Q_true[word])\n",
        "print(prediction - Q_true[word])\n",
        "\n",
        "print('true:', Q_negative[word]/Q_true[word], 'prediction:', Q_negative[word]/prediction)\n",
        "# ИСПОЛЬЗУЕТСЯ ПРИ ОБУЧЕНИИ НА КОЛИЧЕСТВЕННЫХ ДАННЫХ\n",
        "# КОЛИЧЕСТВЕННЫЕ ДАННЫЕ ПОКАЗАЛИ СЕБЯ ПЛОХО'''"
      ],
      "metadata": {
        "id": "48jsf_hvujIA",
        "colab": {
          "base_uri": "https://localhost:8080/",
          "height": 72
        },
        "outputId": "32f0945c-6cec-4291-f729-f4c64d172166"
      },
      "execution_count": 42,
      "outputs": [
        {
          "output_type": "execute_result",
          "data": {
            "text/plain": [
              "\"word = input()\\nprediction = linear_regression_model.predict([[Q_negative[word]]])\\nprint('prediction:', prediction, 'reallity:', Q_true[word])\\nprint(prediction - Q_true[word])\\n\\nprint('true:', Q_negative[word]/Q_true[word], 'prediction:', Q_negative[word]/prediction)\\n# ИСПОЛЬЗУЕТСЯ ПРИ ОБУЧЕНИИ НА КОЛИЧЕСТВЕННЫХ ДАННЫХ\\n# КОЛИЧЕСТВЕННЫЕ ДАННЫЕ ПОКАЗАЛИ СЕБЯ ПЛОХО\""
            ],
            "application/vnd.google.colaboratory.intrinsic+json": {
              "type": "string"
            }
          },
          "metadata": {},
          "execution_count": 42
        }
      ]
    },
    {
      "cell_type": "markdown",
      "source": [
        "1) Привести датасет к целочисленным характеристикам (не к частоте, а к количеству)\n",
        "\n",
        "2) Обучить модель на обновленном датасете\n",
        "\n",
        "3) Создать столбец F_pred(w) - F_True(w)\n",
        "\n",
        "4) Проанализировать результаты\n",
        "\n",
        "5) Сделать тоже самое для положительеной части датасета\n",
        "\n",
        "6) Получить полный результат в виде csv-файла (word, F_true, F_negative, pred_n \n",
        "power_n, F_positive, power_p, pred_p)\n"
      ],
      "metadata": {
        "id": "jK6pN-T3lXn6"
      }
    },
    {
      "cell_type": "code",
      "source": [
        "coef = linear_regression_model.coef_\n",
        "bias = linear_regression_model.intercept_\n",
        "plt.scatter(main_df['F_negative'], main_df['F_true']);\n",
        "x = [i/1000 for i in range(1800)]\n",
        "plt.plot(x, [bias + coef * l for l in x]);\n",
        "print(coef, bias)"
      ],
      "metadata": {
        "id": "UrL9rCYBSTCz",
        "colab": {
          "base_uri": "https://localhost:8080/",
          "height": 287
        },
        "outputId": "0c9aaad4-58c3-477a-da24-25480ee1da5c"
      },
      "execution_count": 43,
      "outputs": [
        {
          "output_type": "stream",
          "name": "stdout",
          "text": [
            "[0.7217323] [0.00058981]\n"
          ]
        },
        {
          "output_type": "display_data",
          "data": {
            "text/plain": [
              "<Figure size 432x288 with 1 Axes>"
            ],
            "image/png": "[encoded data removed]"
          },
          "metadata": {
            "needs_background": "light"
          }
        }
      ]
    },
    {
      "cell_type": "markdown",
      "source": [
        "### **№5**\n",
        "\n",
        "**Собираем датафрейм с предсказанной оценкой**"
      ],
      "metadata": {
        "id": "LjbMHRv7nPgg"
      }
    },
    {
      "cell_type": "code",
      "source": [
        "predicitons_negative = linear_regression_model.predict(pd.DataFrame([[F_negative[word]] for word in frequency_list], columns=['F_negative']))\n",
        "i = 0\n",
        "for word in frequency_list:\n",
        "  predicitons_negative[i] = predicitons_negative[i] - F_true[word]\n",
        "  i += 1"
      ],
      "metadata": {
        "id": "whzQ9VdJtHh-"
      },
      "execution_count": 48,
      "outputs": []
    },
    {
      "cell_type": "code",
      "source": [
        "main_df = pd.DataFrame([[word, F_true[word], F_negative[word], F_negative[word]/F_true[word]] for word in frequency_list], columns=['word', 'F_true', 'F_negative', 'power_n'])\n",
        "main_df = main_df.join(pd.DataFrame([predicitons_negative[i] for i in range(len(main_df))], columns=['pred_n']))\n",
        "#main_df = main_df[main_df.F_true > 0.0001]\n",
        "#main_df = main_df.reset_index(drop=True)\n",
        "print(main_df)"
      ],
      "metadata": {
        "id": "yN9mLhS3t912",
        "colab": {
          "base_uri": "https://localhost:8080/"
        },
        "outputId": "3e64c9ab-6825-4a0b-cb7d-6958f9cf4ef7"
      },
      "execution_count": 50,
      "outputs": [
        {
          "output_type": "stream",
          "name": "stdout",
          "text": [
            "                      word    F_true  F_negative   power_n    pred_n\n",
            "0                    очень  0.403794    0.299459  0.741612 -0.187076\n",
            "1                достойный  0.009960    0.003290  0.330352 -0.006995\n",
            "2                    отель  0.064398    0.049955  0.775716 -0.027755\n",
            "3                        с  0.515094    0.583545  1.132890 -0.093341\n",
            "4              прекрасными  0.000196    0.000100  0.509116  0.000466\n",
            "...                    ...       ...         ...       ...       ...\n",
            "630637      цветовпродавца  0.000001    0.000000  0.000000  0.000589\n",
            "630638   идеальнонасколько  0.000001    0.000000  0.000000  0.000589\n",
            "630639         блузкесшита  0.000001    0.000000  0.000000  0.000589\n",
            "630640  справитсяразмерная  0.000001    0.000000  0.000000  0.000589\n",
            "630641              провдо  0.000001    0.000000  0.000000  0.000589\n",
            "\n",
            "[630642 rows x 5 columns]\n"
          ]
        }
      ]
    },
    {
      "cell_type": "code",
      "source": [
        "# Действельно, характеристика pred_n показывает степень негативности слова\n",
        "print(main_df.sort_values(by='pred_n', ascending=False)[:20])"
      ],
      "metadata": {
        "id": "TqAaGCZDp-ST",
        "colab": {
          "base_uri": "https://localhost:8080/"
        },
        "outputId": "59cbf87b-1ff8-4bfb-a26a-30668064051a"
      },
      "execution_count": 51,
      "outputs": [
        {
          "output_type": "stream",
          "name": "stdout",
          "text": [
            "             word    F_true  F_negative   power_n    pred_n\n",
            "182         через  0.070605    0.130987  1.855199  0.024522\n",
            "3898      вернули  0.009942    0.032089  3.227515  0.013807\n",
            "94520    продавец  0.015640    0.038298  2.448708  0.012591\n",
            "31064        спор  0.006808    0.024789  3.641243  0.011673\n",
            "132        деньги  0.077343    0.121592  1.572119  0.011004\n",
            "15830      месяца  0.026720    0.051354  1.921958  0.010934\n",
            "2369       ремонт  0.011309    0.029528  2.610938  0.010592\n",
            "52387    гарантии  0.008842    0.024994  2.826682  0.009787\n",
            "1871     покупать  0.028393    0.051371  1.809299  0.009273\n",
            "2959   невозможно  0.009324    0.024568  2.635085  0.008998\n",
            "1600        потом  0.030100    0.053134  1.765262  0.008839\n",
            "1250        после  0.098332    0.147310  1.498090  0.008576\n",
            "31535       начал  0.011686    0.026714  2.286034  0.008184\n",
            "30173    перестал  0.008144    0.021234  2.607203  0.007771\n",
            "1218      сказали  0.006648    0.018718  2.815421  0.007451\n",
            "8106       никому  0.004072    0.014963  3.674527  0.007317\n",
            "2005      обратно  0.008128    0.020537  2.526645  0.007284\n",
            "452            бы  0.110880    0.162815  1.468392  0.007219\n",
            "619     постоянно  0.025288    0.044143  1.745623  0.007161\n",
            "8529      месяцев  0.019080    0.035235  1.846686  0.006940\n"
          ]
        }
      ]
    },
    {
      "cell_type": "markdown",
      "source": [
        "### **№6**\n",
        "**Сделаем тоже самое с позитивной частью датасета**"
      ],
      "metadata": {
        "id": "sFGPcYkXy657"
      }
    },
    {
      "cell_type": "code",
      "source": [
        "dataset_positive = dataset[dataset['label'].isin([1])]\n",
        "dataset_positive = dataset_positive.reset_index(drop=True)"
      ],
      "metadata": {
        "id": "smE24jVZy1fj"
      },
      "execution_count": 53,
      "outputs": []
    },
    {
      "cell_type": "code",
      "source": [
        "texts_p = dataset_positive._get_column_array(0)"
      ],
      "metadata": {
        "id": "OUxTsCigzTFR"
      },
      "execution_count": 54,
      "outputs": []
    },
    {
      "cell_type": "code",
      "source": [
        "F_positive = {}\n",
        "Q_positive = {}\n",
        "\n",
        "for i in range(len(dataset)):\n",
        "  for word in texts[i]:\n",
        "    F_positive[word] = 0\n",
        "    Q_positive[word] = 0\n",
        "for i in range(len(dataset_positive)):\n",
        "  for word in texts_p[i]:\n",
        "    count = F_positive.get(word, 0)\n",
        "    F_positive[word] = count + 1\n",
        "    Q_positive[word] = count + 1\n",
        "\n",
        "frequency_list = F_true.keys()"
      ],
      "metadata": {
        "id": "opARAzo1zXtY"
      },
      "execution_count": 55,
      "outputs": []
    },
    {
      "cell_type": "code",
      "source": [
        "for word in frequency_list:\n",
        "  F_positive[word] = F_positive[word]/len(dataset_positive)"
      ],
      "metadata": {
        "id": "a0S04KDhzm4L"
      },
      "execution_count": 56,
      "outputs": []
    },
    {
      "cell_type": "code",
      "source": [
        "positive_df = pd.DataFrame([[word,F_true[word] , F_positive[word], F_positive[word]/F_true[word]] for word in frequency_list], columns=['word', 'F_true', 'F_positive', 'power_p'])\n",
        "positive_df = positive_df[positive_df.F_true > 0.001]\n",
        "positive_df = positive_df.reset_index(drop=True)"
      ],
      "metadata": {
        "id": "Bta-5xMPz2Jt"
      },
      "execution_count": 57,
      "outputs": []
    },
    {
      "cell_type": "code",
      "source": [
        "print(len(positive_df))\n",
        "print(positive_df.sort_values(by='power_p', ascending=True)[10:40])"
      ],
      "metadata": {
        "id": "t-La5H6s0Y2k",
        "colab": {
          "base_uri": "https://localhost:8080/"
        },
        "outputId": "f3521568-0e06-48d1-c421-9fff323e1864"
      },
      "execution_count": 58,
      "outputs": [
        {
          "output_type": "stream",
          "name": "stdout",
          "text": [
            "4136\n",
            "                word    F_true  F_positive   power_p\n",
            "2484  отвратительный  0.001534    0.000255  0.166263\n",
            "2406   отвратительно  0.001122    0.000188  0.167080\n",
            "3350      возвращать  0.001595    0.000268  0.168145\n",
            "2175          никому  0.004072    0.000785  0.192756\n",
            "2918          кошмар  0.001080    0.000218  0.201845\n",
            "686             ужас  0.004268    0.000885  0.207427\n",
            "1915         ужасная  0.002471    0.000519  0.210006\n",
            "3248          вернул  0.004268    0.000927  0.217134\n",
            "2610           нервы  0.001991    0.000436  0.219031\n",
            "3474         сдавать  0.002230    0.000512  0.229798\n",
            "2436         вернуть  0.004696    0.001097  0.233555\n",
            "1086     разочарован  0.004214    0.001003  0.237983\n",
            "2528           сдать  0.002085    0.000499  0.239479\n",
            "4128       сервисном  0.001378    0.000331  0.240431\n",
            "3832       сервисный  0.002548    0.000617  0.242193\n",
            "3412            сдал  0.003689    0.000903  0.244721\n",
            "2193          ужасно  0.005557    0.001424  0.256214\n",
            "3557     гарантийный  0.001959    0.000528  0.269381\n",
            "3365           сырой  0.001669    0.000471  0.282146\n",
            "3559          дефект  0.001453    0.000416  0.286680\n",
            "2746        начались  0.002676    0.000772  0.288389\n",
            "776         возврата  0.001054    0.000312  0.295753\n",
            "3411           толку  0.001004    0.000301  0.299841\n",
            "3006        прислали  0.001797    0.000545  0.303393\n",
            "1619           балла  0.001031    0.000314  0.304614\n",
            "702            ждала  0.003169    0.000972  0.306872\n",
            "3892          браком  0.001680    0.000536  0.319203\n",
            "3991              сц  0.002496    0.000798  0.319748\n",
            "3292           криво  0.001687    0.000543  0.321911\n",
            "638            ветер  0.001917    0.000628  0.327622\n"
          ]
        }
      ]
    },
    {
      "cell_type": "code",
      "source": [
        "main_df = pd.DataFrame([[word, F_true[word], F_negative[word], F_negative[word]/F_true[word], F_positive[word], F_positive[word]/F_true[word]] for word in frequency_list], columns=['word', 'F_true', 'F_negative', 'power_n', 'F_positive', 'power_p'])\n",
        "main_df = main_df.join(pd.DataFrame([predicitons_negative[i] for i in range(len(main_df))], columns=['pred_n']))"
      ],
      "metadata": {
        "id": "zPc0MWob69XC"
      },
      "execution_count": 59,
      "outputs": []
    },
    {
      "cell_type": "code",
      "source": [
        "train_set = pd.DataFrame([[positive_df['F_positive'][i]] for i in range(len(positive_df))], columns=['F_positive'])\n",
        "target = pd.DataFrame([positive_df['F_true'][i] for i in range(len(positive_df))], columns=['F_true'])\n",
        "test_set = pd.DataFrame([[F_positive[word]] for word in frequency_list], columns=['F_positive']) # полный по содержанию датасет\n",
        "target_test = pd.DataFrame([F_true[word] for word in frequency_list], columns=['F_true'])"
      ],
      "metadata": {
        "id": "mCDh61p516UE"
      },
      "execution_count": 60,
      "outputs": []
    },
    {
      "cell_type": "code",
      "source": [
        "linear_regression_model = SGDRegressor(tol=0.00001, eta0=10)\n",
        "linear_regression_model.fit(train_set, target)\n",
        "predictions = linear_regression_model.predict(test_set)\n",
        "mse = mean_squared_error(target_test, predictions) \n",
        "print(\"RMSE: {}\".format(np.sqrt(mse)))"
      ],
      "metadata": {
        "id": "D9g-pVPm2LEv",
        "colab": {
          "base_uri": "https://localhost:8080/"
        },
        "outputId": "41c3679b-a1b1-4162-ac22-5df6b5477224"
      },
      "execution_count": 61,
      "outputs": [
        {
          "output_type": "stream",
          "name": "stdout",
          "text": [
            "RMSE: 0.0011376430709639305\n"
          ]
        },
        {
          "output_type": "stream",
          "name": "stderr",
          "text": [
            "/usr/local/lib/python3.7/dist-packages/sklearn/utils/validation.py:993: DataConversionWarning: A column-vector y was passed when a 1d array was expected. Please change the shape of y to (n_samples, ), for example using ravel().\n",
            "  y = column_or_1d(y, warn=True)\n"
          ]
        }
      ]
    },
    {
      "cell_type": "code",
      "source": [
        "coef = linear_regression_model.coef_\n",
        "bias = linear_regression_model.intercept_\n",
        "plt.scatter(positive_df['F_positive'], positive_df['F_true']);\n",
        "x = [i/1000 for i in range(1250)]\n",
        "plt.plot(x, [bias + coef * l for l in x]);\n",
        "print(coef, bias)"
      ],
      "metadata": {
        "id": "gHndykOs2x8X",
        "colab": {
          "base_uri": "https://localhost:8080/",
          "height": 287
        },
        "outputId": "93c6eef7-ce05-4cab-ff0b-a7d83939ce2e"
      },
      "execution_count": 62,
      "outputs": [
        {
          "output_type": "stream",
          "name": "stdout",
          "text": [
            "[1.04688078] [0.00107609]\n"
          ]
        },
        {
          "output_type": "display_data",
          "data": {
            "text/plain": [
              "<Figure size 432x288 with 1 Axes>"
            ],
            "image/png": "[encoded data removed]"
          },
          "metadata": {
            "needs_background": "light"
          }
        }
      ]
    },
    {
      "cell_type": "code",
      "source": [
        "predicitons_positive = linear_regression_model.predict(pd.DataFrame([[F_positive[word]] for word in frequency_list], columns=['F_positive']))\n",
        "i = 0\n",
        "for word in frequency_list:\n",
        "  predicitons_positive[i] = predicitons_positive[i] - F_true[word]\n",
        "  i += 1"
      ],
      "metadata": {
        "id": "vUHqFa_b2-zH"
      },
      "execution_count": 63,
      "outputs": []
    },
    {
      "cell_type": "code",
      "source": [
        "main_df = main_df.join(pd.DataFrame([predicitons_positive[i] for i in range(len(main_df))], columns=['pred_p']))\n",
        "#main_df = main_df[main_df.F_true > 0.001]\n",
        "#main_df = main_df.reset_index(drop=True)"
      ],
      "metadata": {
        "id": "cIkTogfM3SQi"
      },
      "execution_count": 64,
      "outputs": []
    },
    {
      "cell_type": "code",
      "source": [
        "print(len(main_df))\n",
        "print(main_df.sort_values(by='pred_n', ascending=False)[10:40])"
      ],
      "metadata": {
        "id": "aLSLIRrX5Fa2",
        "colab": {
          "base_uri": "https://localhost:8080/"
        },
        "outputId": "d1cc6131-02c6-492c-be77-79f21ba102d6"
      },
      "execution_count": 65,
      "outputs": [
        {
          "output_type": "stream",
          "name": "stdout",
          "text": [
            "630642\n",
            "                word    F_true  F_negative   power_n  F_positive   power_p  \\\n",
            "1600           потом  0.030100    0.053134  1.765262    0.020792  0.690761   \n",
            "1250           после  0.098332    0.147310  1.498090    0.075864  0.771505   \n",
            "31535          начал  0.011686    0.026714  2.286034    0.006146  0.525983   \n",
            "30173       перестал  0.008144    0.021234  2.607203    0.003469  0.425936   \n",
            "1218         сказали  0.006648    0.018718  2.815421    0.002220  0.333859   \n",
            "8106          никому  0.004072    0.014963  3.674527    0.000785  0.192756   \n",
            "2005         обратно  0.008128    0.020537  2.526645    0.003554  0.437241   \n",
            "452               бы  0.110880    0.162815  1.468392    0.073683  0.664531   \n",
            "619        постоянно  0.025288    0.044143  1.745623    0.017770  0.702705   \n",
            "8529         месяцев  0.019080    0.035235  1.846686    0.013058  0.684388   \n",
            "8285          ужасно  0.005557    0.016467  2.963352    0.001424  0.256214   \n",
            "1350         ужасный  0.004139    0.014499  3.502984    0.000630  0.152242   \n",
            "11505          товар  0.028416    0.048102  1.692795    0.023609  0.830834   \n",
            "10538        вернуть  0.004696    0.015162  3.228920    0.001097  0.233555   \n",
            "1564           денег  0.024722    0.042457  1.717332    0.017229  0.696905   \n",
            "2250     разочарован  0.004214    0.014034  3.330033    0.001003  0.237983   \n",
            "927          никогда  0.012609    0.025514  2.023508    0.009262  0.734586   \n",
            "1205            ужас  0.004268    0.013891  3.254828    0.000885  0.207427   \n",
            "13152         пришёл  0.008381    0.019464  2.322540    0.004112  0.490674   \n",
            "397           сервис  0.011175    0.023191  2.075363    0.007093  0.634718   \n",
            "1257           итоге  0.018327    0.033051  1.803435    0.012661  0.690875   \n",
            "87          проблемы  0.016977    0.030983  1.825022    0.010317  0.607747   \n",
            "303            плохо  0.017849    0.031995  1.792521    0.009918  0.555690   \n",
            "1202           заказ  0.011095    0.022478  2.025886    0.006591  0.594050   \n",
            "13559  разочарование  0.003389    0.011651  3.437748    0.000521  0.153758   \n",
            "40175           сдал  0.003689    0.011673  3.164666    0.000903  0.244721   \n",
            "53027           сони  0.011968    0.023097  1.929966    0.008331  0.696134   \n",
            "28606           брак  0.006479    0.015455  2.385524    0.002909  0.448940   \n",
            "928            такое  0.013144    0.024646  1.874982    0.008721  0.663506   \n",
            "29815         вернул  0.004268    0.012309  2.884254    0.000927  0.217134   \n",
            "\n",
            "         pred_n    pred_p  \n",
            "1600   0.008839 -0.007257  \n",
            "1250   0.008576 -0.017836  \n",
            "31535  0.008184 -0.004175  \n",
            "30173  0.007771 -0.003437  \n",
            "1218   0.007451 -0.003249  \n",
            "8106   0.007317 -0.002174  \n",
            "2005   0.007284 -0.003332  \n",
            "452    0.007219 -0.032666  \n",
            "619    0.007161 -0.005609  \n",
            "8529   0.006940 -0.004334  \n",
            "8285   0.006918 -0.002990  \n",
            "1350   0.006915 -0.002403  \n",
            "11505  0.006891 -0.002624  \n",
            "10538  0.006837 -0.002472  \n",
            "1564   0.006510 -0.005609  \n",
            "2250   0.006504 -0.002088  \n",
            "927    0.006395 -0.001836  \n",
            "1205   0.006347 -0.002265  \n",
            "13152  0.006257 -0.003000  \n",
            "397    0.006153 -0.002673  \n",
            "1257   0.006117 -0.003996  \n",
            "87     0.005974 -0.005099  \n",
            "303    0.005832 -0.006389  \n",
            "1202   0.005718 -0.003119  \n",
            "13559  0.005610 -0.001768  \n",
            "40175  0.005326 -0.001668  \n",
            "53027  0.005292 -0.002170  \n",
            "28606  0.005266 -0.002358  \n",
            "928    0.005233 -0.002938  \n",
            "29815  0.005206 -0.002221  \n"
          ]
        }
      ]
    },
    {
      "cell_type": "code",
      "source": [
        "main_df = main_df[main_df.F_true > 0.00001]\n",
        "main_df = main_df.reset_index(drop=True)\n",
        "print(main_df)"
      ],
      "metadata": {
        "colab": {
          "base_uri": "https://localhost:8080/"
        },
        "id": "tQVVysel2TGI",
        "outputId": "06daee0f-8bc8-462e-b583-99fad41dbf57"
      },
      "execution_count": 72,
      "outputs": [
        {
          "output_type": "stream",
          "name": "stdout",
          "text": [
            "                word    F_true  F_negative   power_n  F_positive   power_p  \\\n",
            "0              очень  0.403794    0.299459  0.741612    0.440270  1.090332   \n",
            "1          достойный  0.009960    0.003290  0.330352    0.010817  1.086074   \n",
            "2              отель  0.064398    0.049955  0.775716    0.057577  0.894072   \n",
            "3                  с  0.515094    0.583545  1.132890    0.454857  0.883056   \n",
            "4        прекрасными  0.000196    0.000100  0.509116    0.000233  1.193326   \n",
            "...              ...       ...         ...       ...         ...       ...   \n",
            "20725       обманщик  0.000244    0.001078  4.423540    0.000002  0.008945   \n",
            "20726        явлется  0.000118    0.000000  0.000000    0.000207  1.762107   \n",
            "20727      продлевал  0.000239    0.000857  3.589021    0.000011  0.045650   \n",
            "20728   отслеживании  0.000106    0.000404  3.793377    0.000011  0.102448   \n",
            "20729  отслеживалась  0.000395    0.000525  1.330866    0.000340  0.861720   \n",
            "\n",
            "         pred_n    pred_p  \n",
            "0     -0.187076  0.058192  \n",
            "1     -0.006995  0.002440  \n",
            "2     -0.027755 -0.003046  \n",
            "3     -0.093341 -0.037837  \n",
            "4      0.000466  0.001125  \n",
            "...         ...       ...  \n",
            "20725  0.001124  0.000835  \n",
            "20726  0.000472  0.001175  \n",
            "20727  0.000970  0.000849  \n",
            "20728  0.000775  0.000981  \n",
            "20729  0.000574  0.001037  \n",
            "\n",
            "[20730 rows x 8 columns]\n"
          ]
        }
      ]
    },
    {
      "cell_type": "code",
      "source": [
        "main_df.to_csv('word_frequency.csv')"
      ],
      "metadata": {
        "id": "na7ruDzf23ag"
      },
      "execution_count": 71,
      "outputs": []
    }
  ]
}