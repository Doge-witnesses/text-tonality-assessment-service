{
  "nbformat": 4,
  "nbformat_minor": 0,
  "metadata": {
    "colab": {
      "provenance": []
    },
    "kernelspec": {
      "name": "python3",
      "display_name": "Python 3"
    },
    "language_info": {
      "name": "python"
    }
  },
  "cells": [
    {
      "cell_type": "markdown",
      "source": [
        "https://habr.com/ru/post/542048/ \n",
        "\n",
        "https://github.com/kavgan/nlp-in-practice/blob/master/tf-idf/Keyword%20Extraction%20with%20TF-IDF%20and%20SKlearn.ipynb\n",
        "\n",
        "\n",
        "---\n",
        "\n"
      ],
      "metadata": {
        "id": "xMkDgFngx6FB"
      }
    },
    {
      "cell_type": "code",
      "source": [
        "import pandas as pd\n",
        "import re\n",
        "from gensim import corpora,models,similarities\n",
        "from gensim.utils import tokenize\n",
        "from sklearn.feature_extraction.text import CountVectorizer"
      ],
      "metadata": {
        "id": "BuU_CzH5uWpg"
      },
      "execution_count": null,
      "outputs": []
    },
    {
      "cell_type": "code",
      "source": [
        "from google.colab import drive\n",
        "drive.mount('/content/drive')"
      ],
      "metadata": {
        "colab": {
          "base_uri": "https://localhost:8080/"
        },
        "id": "BSikb0QbpgKc",
        "outputId": "494186ed-32ed-4795-dfc2-ea2059c33535"
      },
      "execution_count": null,
      "outputs": [
        {
          "output_type": "stream",
          "name": "stdout",
          "text": [
            "Mounted at /content/drive\n"
          ]
        }
      ]
    },
    {
      "cell_type": "code",
      "source": [
        "reviews = pd.read_csv('drive/MyDrive/csv/women_with_predict.csv', lineterminator='\\n')"
      ],
      "metadata": {
        "id": "2raGbDXjdGtP"
      },
      "execution_count": null,
      "outputs": []
    },
    {
      "cell_type": "code",
      "source": [
        "import nltk\n",
        "nltk.download('punkt')"
      ],
      "metadata": {
        "colab": {
          "base_uri": "https://localhost:8080/"
        },
        "id": "3vmOIGSE7ZIN",
        "outputId": "715cfc71-ea07-4de6-ef3b-b4732a730960"
      },
      "execution_count": null,
      "outputs": [
        {
          "output_type": "stream",
          "name": "stderr",
          "text": [
            "[nltk_data] Downloading package punkt to /root/nltk_data...\n",
            "[nltk_data]   Unzipping tokenizers/punkt.zip.\n"
          ]
        },
        {
          "output_type": "execute_result",
          "data": {
            "text/plain": [
              "True"
            ]
          },
          "metadata": {},
          "execution_count": 4
        }
      ]
    },
    {
      "cell_type": "code",
      "source": [
        "#стоп слова для русского из библиотеки\n",
        "nltk.download('stopwords')\n",
        "from nltk.corpus import stopwords\n",
        "s= stopwords.words(\"russian\")\n",
        "s"
      ],
      "metadata": {
        "colab": {
          "base_uri": "https://localhost:8080/"
        },
        "id": "vASMS7jVW-QY",
        "outputId": "6a034d7a-760f-49a6-eb96-bbaaa0aa98c3"
      },
      "execution_count": null,
      "outputs": [
        {
          "output_type": "stream",
          "name": "stderr",
          "text": [
            "[nltk_data] Downloading package stopwords to /root/nltk_data...\n",
            "[nltk_data]   Unzipping corpora/stopwords.zip.\n"
          ]
        },
        {
          "output_type": "execute_result",
          "data": {
            "text/plain": [
              "['и',\n",
              " 'в',\n",
              " 'во',\n",
              " 'не',\n",
              " 'что',\n",
              " 'он',\n",
              " 'на',\n",
              " 'я',\n",
              " 'с',\n",
              " 'со',\n",
              " 'как',\n",
              " 'а',\n",
              " 'то',\n",
              " 'все',\n",
              " 'она',\n",
              " 'так',\n",
              " 'его',\n",
              " 'но',\n",
              " 'да',\n",
              " 'ты',\n",
              " 'к',\n",
              " 'у',\n",
              " 'же',\n",
              " 'вы',\n",
              " 'за',\n",
              " 'бы',\n",
              " 'по',\n",
              " 'только',\n",
              " 'ее',\n",
              " 'мне',\n",
              " 'было',\n",
              " 'вот',\n",
              " 'от',\n",
              " 'меня',\n",
              " 'еще',\n",
              " 'нет',\n",
              " 'о',\n",
              " 'из',\n",
              " 'ему',\n",
              " 'теперь',\n",
              " 'когда',\n",
              " 'даже',\n",
              " 'ну',\n",
              " 'вдруг',\n",
              " 'ли',\n",
              " 'если',\n",
              " 'уже',\n",
              " 'или',\n",
              " 'ни',\n",
              " 'быть',\n",
              " 'был',\n",
              " 'него',\n",
              " 'до',\n",
              " 'вас',\n",
              " 'нибудь',\n",
              " 'опять',\n",
              " 'уж',\n",
              " 'вам',\n",
              " 'ведь',\n",
              " 'там',\n",
              " 'потом',\n",
              " 'себя',\n",
              " 'ничего',\n",
              " 'ей',\n",
              " 'может',\n",
              " 'они',\n",
              " 'тут',\n",
              " 'где',\n",
              " 'есть',\n",
              " 'надо',\n",
              " 'ней',\n",
              " 'для',\n",
              " 'мы',\n",
              " 'тебя',\n",
              " 'их',\n",
              " 'чем',\n",
              " 'была',\n",
              " 'сам',\n",
              " 'чтоб',\n",
              " 'без',\n",
              " 'будто',\n",
              " 'чего',\n",
              " 'раз',\n",
              " 'тоже',\n",
              " 'себе',\n",
              " 'под',\n",
              " 'будет',\n",
              " 'ж',\n",
              " 'тогда',\n",
              " 'кто',\n",
              " 'этот',\n",
              " 'того',\n",
              " 'потому',\n",
              " 'этого',\n",
              " 'какой',\n",
              " 'совсем',\n",
              " 'ним',\n",
              " 'здесь',\n",
              " 'этом',\n",
              " 'один',\n",
              " 'почти',\n",
              " 'мой',\n",
              " 'тем',\n",
              " 'чтобы',\n",
              " 'нее',\n",
              " 'сейчас',\n",
              " 'были',\n",
              " 'куда',\n",
              " 'зачем',\n",
              " 'всех',\n",
              " 'никогда',\n",
              " 'можно',\n",
              " 'при',\n",
              " 'наконец',\n",
              " 'два',\n",
              " 'об',\n",
              " 'другой',\n",
              " 'хоть',\n",
              " 'после',\n",
              " 'над',\n",
              " 'больше',\n",
              " 'тот',\n",
              " 'через',\n",
              " 'эти',\n",
              " 'нас',\n",
              " 'про',\n",
              " 'всего',\n",
              " 'них',\n",
              " 'какая',\n",
              " 'много',\n",
              " 'разве',\n",
              " 'три',\n",
              " 'эту',\n",
              " 'моя',\n",
              " 'впрочем',\n",
              " 'хорошо',\n",
              " 'свою',\n",
              " 'этой',\n",
              " 'перед',\n",
              " 'иногда',\n",
              " 'лучше',\n",
              " 'чуть',\n",
              " 'том',\n",
              " 'нельзя',\n",
              " 'такой',\n",
              " 'им',\n",
              " 'более',\n",
              " 'всегда',\n",
              " 'конечно',\n",
              " 'всю',\n",
              " 'между']"
            ]
          },
          "metadata": {},
          "execution_count": 5
        }
      ]
    },
    {
      "cell_type": "code",
      "source": [
        "#get the text column \n",
        "docs=reviews['text'].astype('U').tolist()\n",
        "\n",
        "#create a vocabulary of words, \n",
        "#ignore words that appear in 85% of documents, \n",
        "#eliminate stop words\n",
        "cv=CountVectorizer(max_df=0.85,stop_words=s)\n",
        "word_count_vector=cv.fit_transform(docs)"
      ],
      "metadata": {
        "id": "gKsNv4A07fSJ"
      },
      "execution_count": null,
      "outputs": []
    },
    {
      "cell_type": "code",
      "source": [
        "word_count_vector.shape"
      ],
      "metadata": {
        "colab": {
          "base_uri": "https://localhost:8080/"
        },
        "id": "vNfzOi1Mxe1_",
        "outputId": "21a69be8-80cd-4ca1-dd6a-432ea9556a77"
      },
      "execution_count": null,
      "outputs": [
        {
          "output_type": "execute_result",
          "data": {
            "text/plain": [
              "(84756, 47555)"
            ]
          },
          "metadata": {},
          "execution_count": 20
        }
      ]
    },
    {
      "cell_type": "code",
      "source": [
        "print(word_count_vector)"
      ],
      "metadata": {
        "id": "QFgEBxccpeBm",
        "colab": {
          "base_uri": "https://localhost:8080/"
        },
        "outputId": "9b3c6a00-58c8-46e2-cc10-811ee6bf89a6"
      },
      "execution_count": null,
      "outputs": [
        {
          "output_type": "stream",
          "name": "stdout",
          "text": [
            "  (0, 16353)\t1\n",
            "  (0, 28953)\t1\n",
            "  (0, 32211)\t1\n",
            "  (0, 43893)\t1\n",
            "  (0, 10230)\t1\n",
            "  (0, 21487)\t1\n",
            "  (0, 45141)\t1\n",
            "  (0, 40171)\t1\n",
            "  (0, 42371)\t1\n",
            "  (0, 43867)\t1\n",
            "  (0, 37244)\t1\n",
            "  (0, 5989)\t1\n",
            "  (0, 19452)\t1\n",
            "  (0, 37557)\t1\n",
            "  (0, 43855)\t1\n",
            "  (0, 41137)\t1\n",
            "  (0, 41913)\t1\n",
            "  (0, 10995)\t1\n",
            "  (1, 10995)\t1\n",
            "  (1, 42399)\t1\n",
            "  (1, 26236)\t1\n",
            "  (1, 12207)\t1\n",
            "  (1, 46079)\t1\n",
            "  (1, 30908)\t1\n",
            "  (1, 31867)\t1\n",
            "  :\t:\n",
            "  (84754, 47378)\t1\n",
            "  (84754, 18383)\t1\n",
            "  (84754, 11830)\t1\n",
            "  (84754, 32841)\t1\n",
            "  (84754, 44256)\t1\n",
            "  (84754, 46673)\t1\n",
            "  (84754, 36806)\t1\n",
            "  (84755, 23451)\t1\n",
            "  (84755, 42722)\t1\n",
            "  (84755, 1099)\t1\n",
            "  (84755, 45602)\t1\n",
            "  (84755, 46581)\t1\n",
            "  (84755, 37281)\t1\n",
            "  (84755, 25)\t1\n",
            "  (84755, 14137)\t1\n",
            "  (84755, 1134)\t1\n",
            "  (84755, 38425)\t1\n",
            "  (84755, 18364)\t1\n",
            "  (84755, 13604)\t1\n",
            "  (84755, 15115)\t1\n",
            "  (84755, 45795)\t1\n",
            "  (84755, 23320)\t1\n",
            "  (84755, 26577)\t1\n",
            "  (84755, 19309)\t1\n",
            "  (84755, 31797)\t1\n"
          ]
        }
      ]
    },
    {
      "cell_type": "code",
      "source": [
        "cv=CountVectorizer(max_df=0.85,stop_words=s,max_features=10000)\n",
        "word_count_vector=cv.fit_transform(docs)\n",
        "word_count_vector.shape"
      ],
      "metadata": {
        "colab": {
          "base_uri": "https://localhost:8080/"
        },
        "id": "RM3-lrbmxK56",
        "outputId": "e4a673f0-5b95-461f-a706-57eb6ac5677b"
      },
      "execution_count": null,
      "outputs": [
        {
          "output_type": "execute_result",
          "data": {
            "text/plain": [
              "(84756, 10000)"
            ]
          },
          "metadata": {},
          "execution_count": 7
        }
      ]
    },
    {
      "cell_type": "code",
      "source": [
        "print(word_count_vector)"
      ],
      "metadata": {
        "id": "IgDwh-d5p00r",
        "colab": {
          "base_uri": "https://localhost:8080/"
        },
        "outputId": "afed6508-7131-41f7-c03b-4ece12d96c4e"
      },
      "execution_count": null,
      "outputs": [
        {
          "output_type": "stream",
          "name": "stdout",
          "text": [
            "  (0, 3287)\t1\n",
            "  (0, 5920)\t1\n",
            "  (0, 6641)\t1\n",
            "  (0, 9192)\t1\n",
            "  (0, 1948)\t1\n",
            "  (0, 9430)\t1\n",
            "  (0, 8343)\t1\n",
            "  (0, 8824)\t1\n",
            "  (0, 9183)\t1\n",
            "  (0, 7645)\t1\n",
            "  (0, 1053)\t1\n",
            "  (0, 3974)\t1\n",
            "  (0, 7718)\t1\n",
            "  (0, 9178)\t1\n",
            "  (0, 8552)\t1\n",
            "  (0, 8719)\t1\n",
            "  (0, 2138)\t1\n",
            "  (1, 2138)\t1\n",
            "  (1, 8828)\t1\n",
            "  (1, 5358)\t1\n",
            "  (1, 2429)\t1\n",
            "  (1, 9664)\t1\n",
            "  (1, 6315)\t1\n",
            "  (1, 6551)\t1\n",
            "  (1, 3761)\t1\n",
            "  :\t:\n",
            "  (84754, 1129)\t1\n",
            "  (84754, 9960)\t1\n",
            "  (84754, 3742)\t1\n",
            "  (84754, 2346)\t1\n",
            "  (84754, 6774)\t1\n",
            "  (84754, 9811)\t1\n",
            "  (84754, 7518)\t1\n",
            "  (84755, 4742)\t1\n",
            "  (84755, 8914)\t1\n",
            "  (84755, 202)\t1\n",
            "  (84755, 9534)\t1\n",
            "  (84755, 9791)\t1\n",
            "  (84755, 7653)\t1\n",
            "  (84755, 11)\t1\n",
            "  (84755, 2829)\t1\n",
            "  (84755, 207)\t1\n",
            "  (84755, 7940)\t1\n",
            "  (84755, 3733)\t1\n",
            "  (84755, 2728)\t1\n",
            "  (84755, 3017)\t1\n",
            "  (84755, 9596)\t1\n",
            "  (84755, 4698)\t1\n",
            "  (84755, 5453)\t1\n",
            "  (84755, 3940)\t1\n",
            "  (84755, 6538)\t1\n"
          ]
        }
      ]
    },
    {
      "cell_type": "code",
      "source": [
        "list(cv.vocabulary_.keys())[:10]"
      ],
      "metadata": {
        "id": "zHjbHeeCHHD2",
        "colab": {
          "base_uri": "https://localhost:8080/"
        },
        "outputId": "b1bdb97b-69f1-42e2-a0b9-2d55409dba20"
      },
      "execution_count": null,
      "outputs": [
        {
          "output_type": "execute_result",
          "data": {
            "text/plain": [
              "['качество',\n",
              " 'плохое',\n",
              " 'пошив',\n",
              " 'ужасный',\n",
              " 'горловина',\n",
              " 'фото',\n",
              " 'соответствует',\n",
              " 'ткань',\n",
              " 'ужасная',\n",
              " 'рисунок']"
            ]
          },
          "metadata": {},
          "execution_count": 24
        }
      ]
    },
    {
      "cell_type": "code",
      "source": [
        "list(cv.get_feature_names())[1000:1010]"
      ],
      "metadata": {
        "id": "SLqG5s4PB34o",
        "colab": {
          "base_uri": "https://localhost:8080/"
        },
        "outputId": "383b7ab9-811c-492a-e6ed-55aa25208967"
      },
      "execution_count": null,
      "outputs": [
        {
          "output_type": "stream",
          "name": "stderr",
          "text": [
            "/usr/local/lib/python3.7/dist-packages/sklearn/utils/deprecation.py:87: FutureWarning: Function get_feature_names is deprecated; get_feature_names is deprecated in 1.0 and will be removed in 1.2. Please use get_feature_names_out instead.\n",
            "  warnings.warn(msg, category=FutureWarning)\n"
          ]
        },
        {
          "output_type": "execute_result",
          "data": {
            "text/plain": [
              "['беременным',\n",
              " 'беременных',\n",
              " 'берет',\n",
              " 'берете',\n",
              " 'берите',\n",
              " 'беру',\n",
              " 'берут',\n",
              " 'бесит',\n",
              " 'бесконечно',\n",
              " 'бесплатная']"
            ]
          },
          "metadata": {},
          "execution_count": 25
        }
      ]
    },
    {
      "cell_type": "code",
      "source": [
        "from sklearn.feature_extraction.text import TfidfTransformer\n",
        "\n",
        "tfidf_transformer=TfidfTransformer(smooth_idf=True,use_idf=True)\n",
        "tfidf_transformer.fit(word_count_vector)\n"
      ],
      "metadata": {
        "colab": {
          "base_uri": "https://localhost:8080/"
        },
        "id": "fOTHN2luHgal",
        "outputId": "36b6d11e-0660-4dc8-9722-3cb183602c1d"
      },
      "execution_count": null,
      "outputs": [
        {
          "output_type": "execute_result",
          "data": {
            "text/plain": [
              "TfidfTransformer()"
            ]
          },
          "metadata": {},
          "execution_count": 8
        }
      ]
    },
    {
      "cell_type": "code",
      "source": [
        "tfidf_transformer.idf_"
      ],
      "metadata": {
        "colab": {
          "base_uri": "https://localhost:8080/"
        },
        "id": "NMgWbjuIHtz7",
        "outputId": "71b821c4-98ef-43d6-c0ab-6f2b7e1330f3"
      },
      "execution_count": null,
      "outputs": [
        {
          "output_type": "execute_result",
          "data": {
            "text/plain": [
              "array([ 9.78259426, 10.15031904,  6.87948348, ...,  8.94634624,\n",
              "        8.54088113, 10.40163347])"
            ]
          },
          "metadata": {},
          "execution_count": 27
        }
      ]
    },
    {
      "cell_type": "code",
      "source": [
        "tests = pd.read_csv('40testsFix.csv', encoding='utf-8', header = None)\n",
        "tests.columns = ['id', 'text', 'label']\n",
        "tests[:5]"
      ],
      "metadata": {
        "colab": {
          "base_uri": "https://localhost:8080/",
          "height": 206
        },
        "id": "shUOLbp__QOI",
        "outputId": "59b88fac-51f4-4c6b-8584-8b7af1afc394"
      },
      "execution_count": null,
      "outputs": [
        {
          "output_type": "execute_result",
          "data": {
            "text/plain": [
              "      id                                               text  label\n",
              "0  88974                                 отличные легинсы\\t      1\n",
              "1  88975                                        вапролджэ\\t      1\n",
              "2  88976  платье для лета...хорошего качества, запах уше...      1\n",
              "3  88977  Классные рубашки, после стирки ни сели,   L хо...      1\n",
              "4  88978  Хорошего качества лосины, теплые очень , то чт...      1"
            ],
            "text/html": [
              "\n",
              "  <div id=\"df-cda2adb2-c38e-4e87-9620-80813af682ed\">\n",
              "    <div class=\"colab-df-container\">\n",
              "      <div>\n",
              "<style scoped>\n",
              "    .dataframe tbody tr th:only-of-type {\n",
              "        vertical-align: middle;\n",
              "    }\n",
              "\n",
              "    .dataframe tbody tr th {\n",
              "        vertical-align: top;\n",
              "    }\n",
              "\n",
              "    .dataframe thead th {\n",
              "        text-align: right;\n",
              "    }\n",
              "</style>\n",
              "<table border=\"1\" class=\"dataframe\">\n",
              "  <thead>\n",
              "    <tr style=\"text-align: right;\">\n",
              "      <th></th>\n",
              "      <th>id</th>\n",
              "      <th>text</th>\n",
              "      <th>label</th>\n",
              "    </tr>\n",
              "  </thead>\n",
              "  <tbody>\n",
              "    <tr>\n",
              "      <th>0</th>\n",
              "      <td>88974</td>\n",
              "      <td>отличные легинсы\\t</td>\n",
              "      <td>1</td>\n",
              "    </tr>\n",
              "    <tr>\n",
              "      <th>1</th>\n",
              "      <td>88975</td>\n",
              "      <td>вапролджэ\\t</td>\n",
              "      <td>1</td>\n",
              "    </tr>\n",
              "    <tr>\n",
              "      <th>2</th>\n",
              "      <td>88976</td>\n",
              "      <td>платье для лета...хорошего качества, запах уше...</td>\n",
              "      <td>1</td>\n",
              "    </tr>\n",
              "    <tr>\n",
              "      <th>3</th>\n",
              "      <td>88977</td>\n",
              "      <td>Классные рубашки, после стирки ни сели,   L хо...</td>\n",
              "      <td>1</td>\n",
              "    </tr>\n",
              "    <tr>\n",
              "      <th>4</th>\n",
              "      <td>88978</td>\n",
              "      <td>Хорошего качества лосины, теплые очень , то чт...</td>\n",
              "      <td>1</td>\n",
              "    </tr>\n",
              "  </tbody>\n",
              "</table>\n",
              "</div>\n",
              "      <button class=\"colab-df-convert\" onclick=\"convertToInteractive('df-cda2adb2-c38e-4e87-9620-80813af682ed')\"\n",
              "              title=\"Convert this dataframe to an interactive table.\"\n",
              "              style=\"display:none;\">\n",
              "        \n",
              "  <svg xmlns=\"http://www.w3.org/2000/svg\" height=\"24px\"viewBox=\"0 0 24 24\"\n",
              "       width=\"24px\">\n",
              "    <path d=\"M0 0h24v24H0V0z\" fill=\"none\"/>\n",
              "    <path d=\"M18.56 5.44l.94 2.06.94-2.06 2.06-.94-2.06-.94-.94-2.06-.94 2.06-2.06.94zm-11 1L8.5 8.5l.94-2.06 2.06-.94-2.06-.94L8.5 2.5l-.94 2.06-2.06.94zm10 10l.94 2.06.94-2.06 2.06-.94-2.06-.94-.94-2.06-.94 2.06-2.06.94z\"/><path d=\"M17.41 7.96l-1.37-1.37c-.4-.4-.92-.59-1.43-.59-.52 0-1.04.2-1.43.59L10.3 9.45l-7.72 7.72c-.78.78-.78 2.05 0 2.83L4 21.41c.39.39.9.59 1.41.59.51 0 1.02-.2 1.41-.59l7.78-7.78 2.81-2.81c.8-.78.8-2.07 0-2.86zM5.41 20L4 18.59l7.72-7.72 1.47 1.35L5.41 20z\"/>\n",
              "  </svg>\n",
              "      </button>\n",
              "      \n",
              "  <style>\n",
              "    .colab-df-container {\n",
              "      display:flex;\n",
              "      flex-wrap:wrap;\n",
              "      gap: 12px;\n",
              "    }\n",
              "\n",
              "    .colab-df-convert {\n",
              "      background-color: #E8F0FE;\n",
              "      border: none;\n",
              "      border-radius: 50%;\n",
              "      cursor: pointer;\n",
              "      display: none;\n",
              "      fill: #1967D2;\n",
              "      height: 32px;\n",
              "      padding: 0 0 0 0;\n",
              "      width: 32px;\n",
              "    }\n",
              "\n",
              "    .colab-df-convert:hover {\n",
              "      background-color: #E2EBFA;\n",
              "      box-shadow: 0px 1px 2px rgba(60, 64, 67, 0.3), 0px 1px 3px 1px rgba(60, 64, 67, 0.15);\n",
              "      fill: #174EA6;\n",
              "    }\n",
              "\n",
              "    [theme=dark] .colab-df-convert {\n",
              "      background-color: #3B4455;\n",
              "      fill: #D2E3FC;\n",
              "    }\n",
              "\n",
              "    [theme=dark] .colab-df-convert:hover {\n",
              "      background-color: #434B5C;\n",
              "      box-shadow: 0px 1px 3px 1px rgba(0, 0, 0, 0.15);\n",
              "      filter: drop-shadow(0px 1px 2px rgba(0, 0, 0, 0.3));\n",
              "      fill: #FFFFFF;\n",
              "    }\n",
              "  </style>\n",
              "\n",
              "      <script>\n",
              "        const buttonEl =\n",
              "          document.querySelector('#df-cda2adb2-c38e-4e87-9620-80813af682ed button.colab-df-convert');\n",
              "        buttonEl.style.display =\n",
              "          google.colab.kernel.accessAllowed ? 'block' : 'none';\n",
              "\n",
              "        async function convertToInteractive(key) {\n",
              "          const element = document.querySelector('#df-cda2adb2-c38e-4e87-9620-80813af682ed');\n",
              "          const dataTable =\n",
              "            await google.colab.kernel.invokeFunction('convertToInteractive',\n",
              "                                                     [key], {});\n",
              "          if (!dataTable) return;\n",
              "\n",
              "          const docLinkHtml = 'Like what you see? Visit the ' +\n",
              "            '<a target=\"_blank\" href=https://colab.research.google.com/notebooks/data_table.ipynb>data table notebook</a>'\n",
              "            + ' to learn more about interactive tables.';\n",
              "          element.innerHTML = '';\n",
              "          dataTable['output_type'] = 'display_data';\n",
              "          await google.colab.output.renderOutput(dataTable, element);\n",
              "          const docLink = document.createElement('div');\n",
              "          docLink.innerHTML = docLinkHtml;\n",
              "          element.appendChild(docLink);\n",
              "        }\n",
              "      </script>\n",
              "    </div>\n",
              "  </div>\n",
              "  "
            ]
          },
          "metadata": {},
          "execution_count": 10
        }
      ]
    },
    {
      "cell_type": "code",
      "source": [
        "testdoc=tests['text'].astype('U').tolist()\n",
        "testdoc[:5]"
      ],
      "metadata": {
        "colab": {
          "base_uri": "https://localhost:8080/"
        },
        "id": "ofS0iMhxbGrN",
        "outputId": "edeb1d5d-b6ce-4055-caa5-71eec8655a7a"
      },
      "execution_count": null,
      "outputs": [
        {
          "output_type": "execute_result",
          "data": {
            "text/plain": [
              "['отличные легинсы\\t',\n",
              " 'вапролджэ\\t',\n",
              " 'платье для лета...хорошего качества, запах ушел при первой стирке. после стирки ткань окраску не изменила. чуть маловато в груди,   но это нестрашно\\t',\n",
              " 'Классные рубашки, после стирки ни сели,   L хорошо подошел на 44-46\\t',\n",
              " 'Хорошего качества лосины, теплые очень , то что нужно,   спасибо!\\t']"
            ]
          },
          "metadata": {},
          "execution_count": 13
        }
      ]
    },
    {
      "cell_type": "code",
      "source": [
        "def sort_coo(coo_matrix):\n",
        "    tuples = zip(coo_matrix.col, coo_matrix.data)\n",
        "    return sorted(tuples, key=lambda x: (x[1], x[0]), reverse=True)\n",
        "\n",
        "def extract_topn_from_vector(feature_names, sorted_items, topn=10):\n",
        "    \"\"\"get the feature names and tf-idf score of top n items\"\"\"\n",
        "    \n",
        "    #use only topn items from vector\n",
        "    sorted_items = sorted_items[:topn]\n",
        "\n",
        "    score_vals = []\n",
        "    feature_vals = []\n",
        "\n",
        "    for idx, score in sorted_items:\n",
        "        fname = feature_names[idx]\n",
        "        \n",
        "        #keep track of feature name and its corresponding score\n",
        "        score_vals.append(round(score, 3))\n",
        "        feature_vals.append(feature_names[idx])\n",
        "\n",
        "    #create a tuples of feature,score\n",
        "    #results = zip(feature_vals,score_vals)\n",
        "    results= {}\n",
        "    for idx in range(len(feature_vals)):\n",
        "        results[feature_vals[idx]]=score_vals[idx]\n",
        "    \n",
        "    return results"
      ],
      "metadata": {
        "id": "WotV2kVhITNO"
      },
      "execution_count": null,
      "outputs": []
    },
    {
      "cell_type": "code",
      "source": [
        "feature_names=cv.get_feature_names()\n",
        "\n",
        "#generate tf-idf for the given document\n",
        "tf_idf_vector=tfidf_transformer.transform(cv.transform(testdoc))\n",
        "\n",
        "#sort the tf-idf vectors by descending order of scores\n",
        "sorted_items=sort_coo(tf_idf_vector.tocoo())\n",
        "\n",
        "#extract only the top n; n here is 10\n",
        "keywords=extract_topn_from_vector(feature_names,sorted_items,20)\n",
        "\n",
        "# now print the results\n",
        "print(\"\\n=====Body=====\")\n",
        "print(testdoc[:3])\n",
        "print(\"\\n===Keywords===\")\n",
        "for k in keywords:\n",
        "    print(k,keywords[k])"
      ],
      "metadata": {
        "colab": {
          "base_uri": "https://localhost:8080/"
        },
        "id": "zdleRpsIIdNp",
        "outputId": "7a0a8eb0-a127-4c9f-c44a-9a4544fd82ad"
      },
      "execution_count": null,
      "outputs": [
        {
          "output_type": "stream",
          "name": "stdout",
          "text": [
            "\n",
            "=====Body=====\n",
            "['отличные легинсы\\t', 'вапролджэ\\t', 'платье для лета...хорошего качества, запах ушел при первой стирке. после стирки ткань окраску не изменила. чуть маловато в груди,   но это нестрашно\\t']\n",
            "\n",
            "===Keywords===\n",
            "супер 0.627\n",
            "отлично 1.0\n",
            "легинсы 0.769\n",
            "суперрр 0.69\n",
            "леги 0.664\n",
            "хорошее 0.659\n",
            "отличном 0.655\n",
            "отличные 0.639\n",
            "блузка 0.629\n",
            "высшем 0.614\n",
            "быстрая 0.605\n",
            "быстро 0.592\n",
            "доча 0.566\n",
            "закажу 0.566\n",
            "состоянии 0.565\n",
            "курьером 0.564\n",
            "доставили 0.555\n",
            "объём 0.553\n",
            "84 0.54\n"
          ]
        }
      ]
    },
    {
      "cell_type": "code",
      "source": [
        "def get_keywords(idx):\n",
        "\n",
        "    #generate tf-idf for the given document\n",
        "    tf_idf_vector=tfidf_transformer.transform(cv.transform([testdoc[idx]]))\n",
        "\n",
        "    #sort the tf-idf vectors by descending order of scores\n",
        "    sorted_items=sort_coo(tf_idf_vector.tocoo())\n",
        "\n",
        "    #extract only the top n; n here is 10\n",
        "    keywords=extract_topn_from_vector(feature_names,sorted_items,10)\n",
        "    \n",
        "    return keywords\n",
        "\n",
        "def print_results(idx,keywords):\n",
        "    # now print the results\n",
        "    print(\"\\n=====Body=====\")\n",
        "    print(testdoc[idx])\n",
        "    print(\"\\n===Keywords===\")\n",
        "    for k in keywords:\n",
        "        print(k,keywords[k])"
      ],
      "metadata": {
        "id": "97n3KFcaI62z"
      },
      "execution_count": null,
      "outputs": []
    },
    {
      "cell_type": "code",
      "source": [
        "idx=2\n",
        "keywords=get_keywords(idx)\n",
        "print_results(idx,keywords)"
      ],
      "metadata": {
        "colab": {
          "base_uri": "https://localhost:8080/"
        },
        "id": "t2BvMl0Lzbj4",
        "outputId": "d21bc2b5-2ee0-4985-8c36-55e738238fb9"
      },
      "execution_count": null,
      "outputs": [
        {
          "output_type": "stream",
          "name": "stdout",
          "text": [
            "\n",
            "=====Body=====\n",
            "платье для лета...хорошего качества, запах ушел при первой стирке. после стирки ткань окраску не изменила. чуть маловато в груди,   но это нестрашно\t\n",
            "\n",
            "===Keywords===\n",
            "нестрашно 0.401\n",
            "изменила 0.392\n",
            "ушел 0.337\n",
            "лета 0.304\n",
            "маловато 0.278\n",
            "стирке 0.273\n",
            "первой 0.243\n",
            "хорошего 0.227\n",
            "стирки 0.205\n",
            "запах 0.199\n"
          ]
        }
      ]
    },
    {
      "cell_type": "code",
      "source": [
        "tf_idf_vector=tfidf_transformer.transform(cv.transform(docs))\n",
        "\n",
        "results=[]\n",
        "for i in range(tf_idf_vector.shape[0]):\n",
        "    \n",
        "    # get vector for a single document\n",
        "    curr_vector=tf_idf_vector[i]\n",
        "    \n",
        "    #sort the tf-idf vector by descending order of scores\n",
        "    sorted_items=sort_coo(curr_vector.tocoo())\n",
        "\n",
        "    #extract only the top n; n here is 10\n",
        "    keywords=extract_topn_from_vector(feature_names,sorted_items,10)\n",
        "    \n",
        "    \n",
        "    results.append(keywords)\n",
        "\n",
        "df=pd.DataFrame(zip(docs,results),columns=['doc','keywords'])\n",
        "df"
      ],
      "metadata": {
        "colab": {
          "base_uri": "https://localhost:8080/",
          "height": 424
        },
        "id": "DRqGRaecz1CV",
        "outputId": "15c3330d-1463-4610-e037-cc4ccdaca67d"
      },
      "execution_count": null,
      "outputs": [
        {
          "output_type": "execute_result",
          "data": {
            "text/plain": [
              "                                                     doc  \\\n",
              "0      качество плохое пошив ужасный (горловина напер...   \n",
              "1      Товар отдали другому человеку,   я не получила...   \n",
              "2      Ужасная синтетика! Тонкая, ничего общего с пре...   \n",
              "3      товар не пришел,   продавец продлил защиту без...   \n",
              "4        Кофточка голая синтетика,   носить не возможно.   \n",
              "...                                                  ...   \n",
              "84751  сделано достаточно хорошо. на ткани сделан рис...   \n",
              "84752  Накидка шикарная. Спасибо большое провдо линяе...   \n",
              "84753  спасибо большое ) продовца рекомендую.. заказа...   \n",
              "84754  Очень довольна заказом! Меньше месяца в РБ.  К...   \n",
              "84755  хорошая куртка. постороннего запаха нет. швы р...   \n",
              "\n",
              "                                                keywords  \n",
              "0      {'блеклый': 0.395, 'горловина': 0.308, 'ужасна...  \n",
              "1      {'отдали': 0.483, 'человеку': 0.467, 'ладно': ...  \n",
              "2      {'представленной': 0.343, 'растянут': 0.322, '...  \n",
              "3      {'согласия': 0.469, 'обещания': 0.462, 'продли...  \n",
              "4      {'голая': 0.585, 'возможно': 0.487, 'кофточка'...  \n",
              "...                                                  ...  \n",
              "84751  {'заметен': 0.488, 'сделано': 0.364, 'сделан':...  \n",
              "84752  {'накидка': 0.388, 'немножко': 0.346, 'шикарна...  \n",
              "84753  {'продовца': 0.432, '23': 0.397, '08': 0.378, ...  \n",
              "84754  {'рб': 0.447, 'привез': 0.381, 'шикарная': 0.3...  \n",
              "84755  {'хххl': 0.344, 'постороннего': 0.343, 'лёгкая...  \n",
              "\n",
              "[84756 rows x 2 columns]"
            ],
            "text/html": [
              "\n",
              "  <div id=\"df-11088f6c-ad3a-4ca0-b437-3e6013111929\">\n",
              "    <div class=\"colab-df-container\">\n",
              "      <div>\n",
              "<style scoped>\n",
              "    .dataframe tbody tr th:only-of-type {\n",
              "        vertical-align: middle;\n",
              "    }\n",
              "\n",
              "    .dataframe tbody tr th {\n",
              "        vertical-align: top;\n",
              "    }\n",
              "\n",
              "    .dataframe thead th {\n",
              "        text-align: right;\n",
              "    }\n",
              "</style>\n",
              "<table border=\"1\" class=\"dataframe\">\n",
              "  <thead>\n",
              "    <tr style=\"text-align: right;\">\n",
              "      <th></th>\n",
              "      <th>doc</th>\n",
              "      <th>keywords</th>\n",
              "    </tr>\n",
              "  </thead>\n",
              "  <tbody>\n",
              "    <tr>\n",
              "      <th>0</th>\n",
              "      <td>качество плохое пошив ужасный (горловина напер...</td>\n",
              "      <td>{'блеклый': 0.395, 'горловина': 0.308, 'ужасна...</td>\n",
              "    </tr>\n",
              "    <tr>\n",
              "      <th>1</th>\n",
              "      <td>Товар отдали другому человеку,   я не получила...</td>\n",
              "      <td>{'отдали': 0.483, 'человеку': 0.467, 'ладно': ...</td>\n",
              "    </tr>\n",
              "    <tr>\n",
              "      <th>2</th>\n",
              "      <td>Ужасная синтетика! Тонкая, ничего общего с пре...</td>\n",
              "      <td>{'представленной': 0.343, 'растянут': 0.322, '...</td>\n",
              "    </tr>\n",
              "    <tr>\n",
              "      <th>3</th>\n",
              "      <td>товар не пришел,   продавец продлил защиту без...</td>\n",
              "      <td>{'согласия': 0.469, 'обещания': 0.462, 'продли...</td>\n",
              "    </tr>\n",
              "    <tr>\n",
              "      <th>4</th>\n",
              "      <td>Кофточка голая синтетика,   носить не возможно.</td>\n",
              "      <td>{'голая': 0.585, 'возможно': 0.487, 'кофточка'...</td>\n",
              "    </tr>\n",
              "    <tr>\n",
              "      <th>...</th>\n",
              "      <td>...</td>\n",
              "      <td>...</td>\n",
              "    </tr>\n",
              "    <tr>\n",
              "      <th>84751</th>\n",
              "      <td>сделано достаточно хорошо. на ткани сделан рис...</td>\n",
              "      <td>{'заметен': 0.488, 'сделано': 0.364, 'сделан':...</td>\n",
              "    </tr>\n",
              "    <tr>\n",
              "      <th>84752</th>\n",
              "      <td>Накидка шикарная. Спасибо большое провдо линяе...</td>\n",
              "      <td>{'накидка': 0.388, 'немножко': 0.346, 'шикарна...</td>\n",
              "    </tr>\n",
              "    <tr>\n",
              "      <th>84753</th>\n",
              "      <td>спасибо большое ) продовца рекомендую.. заказа...</td>\n",
              "      <td>{'продовца': 0.432, '23': 0.397, '08': 0.378, ...</td>\n",
              "    </tr>\n",
              "    <tr>\n",
              "      <th>84754</th>\n",
              "      <td>Очень довольна заказом! Меньше месяца в РБ.  К...</td>\n",
              "      <td>{'рб': 0.447, 'привез': 0.381, 'шикарная': 0.3...</td>\n",
              "    </tr>\n",
              "    <tr>\n",
              "      <th>84755</th>\n",
              "      <td>хорошая куртка. постороннего запаха нет. швы р...</td>\n",
              "      <td>{'хххl': 0.344, 'постороннего': 0.343, 'лёгкая...</td>\n",
              "    </tr>\n",
              "  </tbody>\n",
              "</table>\n",
              "<p>84756 rows × 2 columns</p>\n",
              "</div>\n",
              "      <button class=\"colab-df-convert\" onclick=\"convertToInteractive('df-11088f6c-ad3a-4ca0-b437-3e6013111929')\"\n",
              "              title=\"Convert this dataframe to an interactive table.\"\n",
              "              style=\"display:none;\">\n",
              "        \n",
              "  <svg xmlns=\"http://www.w3.org/2000/svg\" height=\"24px\"viewBox=\"0 0 24 24\"\n",
              "       width=\"24px\">\n",
              "    <path d=\"M0 0h24v24H0V0z\" fill=\"none\"/>\n",
              "    <path d=\"M18.56 5.44l.94 2.06.94-2.06 2.06-.94-2.06-.94-.94-2.06-.94 2.06-2.06.94zm-11 1L8.5 8.5l.94-2.06 2.06-.94-2.06-.94L8.5 2.5l-.94 2.06-2.06.94zm10 10l.94 2.06.94-2.06 2.06-.94-2.06-.94-.94-2.06-.94 2.06-2.06.94z\"/><path d=\"M17.41 7.96l-1.37-1.37c-.4-.4-.92-.59-1.43-.59-.52 0-1.04.2-1.43.59L10.3 9.45l-7.72 7.72c-.78.78-.78 2.05 0 2.83L4 21.41c.39.39.9.59 1.41.59.51 0 1.02-.2 1.41-.59l7.78-7.78 2.81-2.81c.8-.78.8-2.07 0-2.86zM5.41 20L4 18.59l7.72-7.72 1.47 1.35L5.41 20z\"/>\n",
              "  </svg>\n",
              "      </button>\n",
              "      \n",
              "  <style>\n",
              "    .colab-df-container {\n",
              "      display:flex;\n",
              "      flex-wrap:wrap;\n",
              "      gap: 12px;\n",
              "    }\n",
              "\n",
              "    .colab-df-convert {\n",
              "      background-color: #E8F0FE;\n",
              "      border: none;\n",
              "      border-radius: 50%;\n",
              "      cursor: pointer;\n",
              "      display: none;\n",
              "      fill: #1967D2;\n",
              "      height: 32px;\n",
              "      padding: 0 0 0 0;\n",
              "      width: 32px;\n",
              "    }\n",
              "\n",
              "    .colab-df-convert:hover {\n",
              "      background-color: #E2EBFA;\n",
              "      box-shadow: 0px 1px 2px rgba(60, 64, 67, 0.3), 0px 1px 3px 1px rgba(60, 64, 67, 0.15);\n",
              "      fill: #174EA6;\n",
              "    }\n",
              "\n",
              "    [theme=dark] .colab-df-convert {\n",
              "      background-color: #3B4455;\n",
              "      fill: #D2E3FC;\n",
              "    }\n",
              "\n",
              "    [theme=dark] .colab-df-convert:hover {\n",
              "      background-color: #434B5C;\n",
              "      box-shadow: 0px 1px 3px 1px rgba(0, 0, 0, 0.15);\n",
              "      filter: drop-shadow(0px 1px 2px rgba(0, 0, 0, 0.3));\n",
              "      fill: #FFFFFF;\n",
              "    }\n",
              "  </style>\n",
              "\n",
              "      <script>\n",
              "        const buttonEl =\n",
              "          document.querySelector('#df-11088f6c-ad3a-4ca0-b437-3e6013111929 button.colab-df-convert');\n",
              "        buttonEl.style.display =\n",
              "          google.colab.kernel.accessAllowed ? 'block' : 'none';\n",
              "\n",
              "        async function convertToInteractive(key) {\n",
              "          const element = document.querySelector('#df-11088f6c-ad3a-4ca0-b437-3e6013111929');\n",
              "          const dataTable =\n",
              "            await google.colab.kernel.invokeFunction('convertToInteractive',\n",
              "                                                     [key], {});\n",
              "          if (!dataTable) return;\n",
              "\n",
              "          const docLinkHtml = 'Like what you see? Visit the ' +\n",
              "            '<a target=\"_blank\" href=https://colab.research.google.com/notebooks/data_table.ipynb>data table notebook</a>'\n",
              "            + ' to learn more about interactive tables.';\n",
              "          element.innerHTML = '';\n",
              "          dataTable['output_type'] = 'display_data';\n",
              "          await google.colab.output.renderOutput(dataTable, element);\n",
              "          const docLink = document.createElement('div');\n",
              "          docLink.innerHTML = docLinkHtml;\n",
              "          element.appendChild(docLink);\n",
              "        }\n",
              "      </script>\n",
              "    </div>\n",
              "  </div>\n",
              "  "
            ]
          },
          "metadata": {},
          "execution_count": 22
        }
      ]
    },
    {
      "cell_type": "code",
      "source": [
        "for i in range(5000, 5050):\n",
        "  print(df[\"doc\"][i])\n",
        "  print(df[\"keywords\"][i])"
      ],
      "metadata": {
        "colab": {
          "base_uri": "https://localhost:8080/"
        },
        "id": "aKOOMH_5OWeb",
        "outputId": "f469ca34-edbf-45e7-d8de-556d762f02d8"
      },
      "execution_count": null,
      "outputs": [
        {
          "output_type": "stream",
          "name": "stdout",
          "text": [
            "качество синтетика полная, булавки вколоты были ржавые,  рукава короткие и узкие , подтянуть если то придется расстегивать пуговицы ,   смотрится нехорошо\t\n",
            "{'нехорошо': 0.439, 'ржавые': 0.419, 'подтянуть': 0.401, 'полная': 0.29, 'пуговицы': 0.283, 'узкие': 0.269, 'придется': 0.268, 'смотрится': 0.207, 'короткие': 0.203, 'рукава': 0.179}\n",
            "Во-первых, кофта растянута в плечах (похоже на то, что она долгое время висела на плечиках), даже после стирки плечи не вернулись в нужное положение .\r\n",
            "Во-вторых, оригинал отличается от фото, предложенного на сайте .\r\n",
            "В-третьих, товар оказался влажным, а пакетик для сбора влаги был мокрым (ну это, пожалуй, претензии скорее к почте) .\r\n",
            "В общем, товаром я недовольна\t\n",
            "{'нужное': 0.256, 'положение': 0.247, 'оригинал': 0.242, 'висела': 0.236, 'пакетик': 0.232, 'растянута': 0.228, 'пожалуй': 0.224, 'третьих': 0.22, 'претензии': 0.219, 'долгое': 0.215}\n",
            "пришло с чёрными пятнами после стирки пятна так и остались\t\n",
            "{'чёрными': 0.533, 'остались': 0.476, 'пятнами': 0.426, 'пятна': 0.393, 'стирки': 0.308, 'пришло': 0.243}\n",
            "Качество товара не очень порадовало,    посылка пришла просто в почтовом пакете даже без нужной упаковки. Резинки просто лежали в пакете.\t\n",
            "{'пакете': 0.53, 'лежали': 0.348, 'нужной': 0.339, 'почтовом': 0.309, 'просто': 0.303, 'упаковки': 0.291, 'порадовало': 0.257, 'резинки': 0.227, 'товара': 0.175, 'посылка': 0.164}\n",
            "качество ужастное,воняет сигаретами,   нет выточек на рукавах. смотрится как дешовка.\t\n",
            "{'дешовка': 0.593, 'выточек': 0.485, 'воняет': 0.415, 'рукавах': 0.37, 'смотрится': 0.275, 'качество': 0.166}\n",
            "Дешманская синтетика!!! Не рекомендую!\t\n",
            "{'дешманская': 0.879, 'синтетика': 0.347, 'рекомендую': 0.327}\n",
            "футболка не пришла, и спор уже не поднять, продавец обманщик,   за три года первый раз такое на али\t\n",
            "{'поднять': 0.465, 'года': 0.406, 'обманщик': 0.377, 'первый': 0.309, 'такое': 0.303, 'али': 0.294, 'футболка': 0.289, 'пришла': 0.217, 'спор': 0.208, 'продавец': 0.171}\n",
            "Ожидала другой материал. Фото не особо соответствует.\t\n",
            "{'особо': 0.639, 'ожидала': 0.474, 'материал': 0.379, 'фото': 0.342, 'соответствует': 0.327}\n",
            "Цвет не соответствует описанию. Вместо белой и черной кофточки получила кремового и темносинего цвета!\t\n",
            "{'черной': 0.482, 'белой': 0.448, 'кофточки': 0.443, 'вместо': 0.306, 'цвета': 0.278, 'описанию': 0.256, 'получила': 0.228, 'цвет': 0.206, 'соответствует': 0.199}\n",
            "Продавец прислал водолазку другого цвета, тонкую,   просвечивающуюся.\t\n",
            "{'тонкую': 0.535, 'водолазку': 0.534, 'прислал': 0.404, 'другого': 0.356, 'цвета': 0.32, 'продавец': 0.193}\n",
            "Товар не пришёл!!!!!!! Обманули на деньги! Не покупайте этот товар! \t\n",
            "{'обманули': 0.635, 'покупайте': 0.503, 'товар': 0.457, 'пришёл': 0.289, 'деньги': 0.226}\n",
            "платье ужасное.швы все в сборку.рисунок расплывчивый ткань просто ужас\t\n",
            "{'сборку': 0.61, 'рисунок': 0.364, 'ужас': 0.344, 'ужасное': 0.335, 'швы': 0.282, 'просто': 0.275, 'платье': 0.241, 'ткань': 0.226}\n",
            "Заказывала размер М,    прислали S. Возврат денег!  Сама кофточка жесткая на ощупь.\t\n",
            "{'жесткая': 0.515, 'возврат': 0.352, 'кофточка': 0.342, 'сама': 0.336, 'ощупь': 0.333, 'прислали': 0.327, 'денег': 0.275, 'заказывала': 0.248, 'размер': 0.162}\n",
            "шло очень долго,качество безобразное,везде торчат нитки,  присутствует посторонний запах\t\n",
            "{'посторонний': 0.502, 'безобразное': 0.48, 'присутствует': 0.352, 'везде': 0.294, 'шло': 0.282, 'запах': 0.249, 'долго': 0.216, 'торчат': 0.209, 'нитки': 0.202, 'качество': 0.142}\n",
            "нечего не получилась слишком не хороший 4месяцев ждала нету......но деньги обратно дали молодец!\t\n",
            "{'получилась': 0.417, 'дали': 0.381, 'нечего': 0.377, 'нету': 0.373, 'молодец': 0.323, 'обратно': 0.319, 'слишком': 0.259, 'хороший': 0.236, 'ждала': 0.224, 'деньги': 0.141}\n",
            "товар так и непришел, продавец вернул деньги,   за что ему огромное срасибо\t\n",
            "{'непришел': 0.737, 'огромное': 0.449, 'вернул': 0.333, 'продавец': 0.225, 'товар': 0.218, 'деньги': 0.216}\n",
            "Ужасное качество... Ткань на швах разлезлась ,при том,   что рубашка мне свободна. Ткань разлезлась не только на швах. Около всех пуговиц торчат нитки. Очень разочарована заказом.\t\n",
            "{'швах': 0.619, 'свободна': 0.324, 'пуговиц': 0.31, 'ткань': 0.291, 'около': 0.24, 'разочарована': 0.228, 'заказом': 0.224, 'ужасное': 0.216, 'рубашка': 0.206, 'торчат': 0.174}\n",
            "заказ шёл очень, очень долго, 63 дня.  Не соответствует описанию. Рукава очень короткие. Заказывала пальто у другого продавца- размерная сетка одинаковая.  Там рукава даже длинноваты, здесь даже очень коротковаты. Продавец несколько раз продлевал защиту. И наконец-то долгожданная куртка пришла. Но носить её не буду!!! Очень короткие рукава!!! Может на рост 140-150 будет нормально.Мой рост 163см.  В размере 46 подошёл L,   но рукава надо на 10 см длиннее. Деньги выброшены в пустую!\t\n",
            "{'рукава': 0.375, 'очень': 0.261, 'одинаковая': 0.216, '163см': 0.216, 'короткие': 0.212, 'выброшены': 0.201, 'пустую': 0.198, '140': 0.198, 'длинноваты': 0.177, 'рост': 0.172}\n",
            "An item has never come, the tracking number is invalid, the seller always asks to wait,   though it's been more than 4 months since I ordered\t\n",
            "{'the': 0.296, 'always': 0.264, 'wait': 0.254, 'though': 0.252, 'been': 0.252, 'number': 0.243, 'tracking': 0.24, 'months': 0.232, 'never': 0.228, 'an': 0.223}\n",
            "не вздумайте брать подделка!!!!\t\n",
            "{'вздумайте': 0.667, 'подделка': 0.645, 'брать': 0.372}\n",
            "Полное говно и продавец говно,   нихрена не пришло и деньги не вернул!\t\n",
            "{'говно': 0.707, 'нихрена': 0.496, 'полное': 0.336, 'вернул': 0.229, 'пришло': 0.207, 'продавец': 0.155, 'деньги': 0.149}\n",
            "товар пришёл очень быстро продавцу за это спасибо,  только товар не соответствует описанию, это не хлопок, а синтетика, на сообщение продавец не отвечал. открыла спор, спор был закрыт в мою пользу,   но деньги так и не вернули\t\n",
            "{'закрыт': 0.315, 'сообщение': 0.312, 'спор': 0.312, 'это': 0.301, 'пользу': 0.281, 'мою': 0.262, 'отвечал': 0.257, 'товар': 0.248, 'хлопок': 0.232, 'описанию': 0.196}\n",
            "Пришло совсем другое платье. Ждала месяц. Платье совсем другого цвета, размера и фасона. Заказывала L, _пришла наверное S, на нем нет никаких этикеток, но на меня даже на вид мало, зато очень длинное, на полу навер\r\n",
            "ное еще будет с полметра лежать. Куда смотрел продавец, когда отсылал это платье? Очень расстроена. Продавец с заказом не справился, поэтому только одна звезла.\t\n",
            "{'платье': 0.332, 'полу': 0.277, 'лежать': 0.275, 'этикеток': 0.256, 'фасона': 0.252, 'длинное': 0.222, 'зато': 0.208, 'никаких': 0.199, 'другое': 0.198, 'нем': 0.195}\n",
            "Товар так и не получила, открыла спор, деньги не вернули! Продавец дал неправильный номер отслеживания,   товар уехал в Финляндию!!! Это просто ужасный сервис! \t\n",
            "{'уехал': 0.4, 'сервис': 0.371, 'неправильный': 0.351, 'отслеживания': 0.294, 'дал': 0.292, 'номер': 0.275, 'товар': 0.255, 'ужасный': 0.241, 'открыла': 0.19, 'просто': 0.186}\n",
            "платье не совсем такое как указано на картинке(( рукава длиньше, со стороны кажется, что они просто малы..линия под грудью ниже, не красиво смотрится вообще.... (рост 165) материал просвечивает и всё выпирает (трусы и прочее.....). единственное, что хорошо-пришло по размеру,русский м,   выбрала м.\t\n",
            "{'прочее': 0.303, 'выпирает': 0.286, 'длиньше': 0.279, 'линия': 0.253, 'выбрала': 0.218, 'грудью': 0.211, 'указано': 0.208, 'трусы': 0.196, 'кажется': 0.196, 'малы': 0.192}\n",
            "заказ не получила,   деньги вернули через спор\t\n",
            "{'получила': 0.52, 'спор': 0.464, 'вернули': 0.439, 'заказ': 0.433, 'деньги': 0.366}\n",
            "товар изначально не отслеживался.писала периодически продавцу.он заверял что все отлично.костюм не пришел.деньги не вернул.не советую\t\n",
            "{'заверял': 0.518, 'изначально': 0.402, 'писала': 0.366, 'костюм': 0.302, 'отслеживался': 0.245, 'вернул': 0.234, 'советую': 0.228, 'отлично': 0.223, 'продавцу': 0.212, 'пришел': 0.191}\n",
            "Заказ не пришел за 3 месяца, не отслеживался! Продавец уверял что заказ отправлен! Открыл спор, который продавец принимать отказывался, алиэкспресс принял мою сторону и вернул деньги! Не советую тут покупать,   продавец х... в ухо вкручивает!\t\n",
            "{'ухо': 0.33, 'принимать': 0.311, 'продавец': 0.306, 'отказывался': 0.26, 'уверял': 0.253, 'принял': 0.247, 'сторону': 0.244, 'открыл': 0.239, 'заказ': 0.231, 'отправлен': 0.216}\n",
            "Надпись напечатана очень не качественно, неравномерно и с каким-то мусором .\r\n",
            "Материал оставляет желать лучшего. После первой стирке разошёлся на отдельные нити\t\n",
            "{'напечатана': 0.367, 'неравномерно': 0.338, 'разошёлся': 0.337, 'нити': 0.314, 'каким': 0.293, 'надпись': 0.286, 'стирке': 0.263, 'желать': 0.24, 'оставляет': 0.24, 'первой': 0.234}\n",
            "Ужасный продавец!Врун!Подтвердил размер платья по моим параметрам,  в итоге пришел полосатый мешок на 2 размера больше!Деньги не возвращает\t\n",
            "{'врун': 0.407, 'подтвердил': 0.383, 'моим': 0.331, 'возвращает': 0.33, 'параметрам': 0.32, 'мешок': 0.291, 'платья': 0.251, 'ужасный': 0.241, 'итоге': 0.221, 'размера': 0.202}\n",
            "Продавец не собирается решать вопрос о доставке!!! По ходу доставка прибыла в Россию на почту, но вы сами знаете как у нас работает уведомление на почте, и видимо товар отправили обратно... Нет что бы корректно решить вопрос , продавец сначала пишет что всё нормально и он отправит повторно,   а потом кидает какой то непонятный трекер и начинает присылать в ответ на вопрос какие то смайлики!!! \t\n",
            "{'вопрос': 0.464, 'ходу': 0.209, 'смайлики': 0.203, 'знаете': 0.201, 'трекер': 0.199, 'уведомление': 0.193, 'начинает': 0.187, 'решать': 0.187, 'прибыла': 0.179, 'отправит': 0.176}\n",
            "в описание шелковый халат или атлас,  а прислали сетку прозрачную.Короче только выбросить.\t\n",
            "{'атлас': 0.49, 'сетку': 0.427, 'выбросить': 0.423, 'халат': 0.346, 'описание': 0.329, 'короче': 0.299, 'прислали': 0.286}\n",
            "Очень расстроена покупкой. Идея, конечно, отличная: красивая ткань с цветами, сверху органза, мех снизу. Только то, что я получила, вовсе не похоже на фото продавца. Рукава вовсе не длиннее, чем, например, спинка у куртки. Вообще у куртки странный крой: верх узкий, низ широкий. Для беременных? Вероятно. Во всяком случае я себя в этой куртке чувствую матрёшкой, а не изящной женщиной. На фото видно, что нет у меня тех килограммов, которые мне   навешивает   эта куртка.\t\n",
            "{'вовсе': 0.332, 'куртки': 0.286, 'всяком': 0.219, 'вероятно': 0.198, 'цветами': 0.196, 'идея': 0.194, 'например': 0.193, 'чувствую': 0.191, 'беременных': 0.187, 'спинка': 0.183}\n",
            "Маломерит,   на большой объем просто положили расширитель.\t\n",
            "{'объем': 0.52, 'положили': 0.515, 'маломерит': 0.427, 'большой': 0.41, 'просто': 0.338}\n",
            "цвет совершенно не соответствует картинке,тонкое платье,синтетика!горловина просто ужас,  совсем не лежит.\t\n",
            "{'лежит': 0.447, 'горловина': 0.384, 'тонкое': 0.369, 'совершенно': 0.326, 'ужас': 0.308, 'картинке': 0.256, 'просто': 0.246, 'синтетика': 0.232, 'платье': 0.215, 'цвет': 0.214}\n",
            "Галимая синтетика,   все бьется током когда снимаешь и одеваешь. брр вообще невозможно \t\n",
            "{'током': 0.541, 'одеваешь': 0.491, 'галимая': 0.457, 'невозможно': 0.361, 'вообще': 0.265, 'синтетика': 0.237}\n",
            "Лосины не соответствуют фото. Нет флисовой подкладки. Товар похож на толстые капроновые колготки. Точно не для зимы(\t\n",
            "{'флисовой': 0.426, 'капроновые': 0.353, 'толстые': 0.331, 'подкладки': 0.323, 'зимы': 0.302, 'похож': 0.296, 'лосины': 0.262, 'соответствуют': 0.261, 'колготки': 0.252, 'точно': 0.244}\n",
            "Короче, не держатся полная ерунда. Даже одного раза не поносить,   отклеивается.\t\n",
            "{'поносить': 0.413, 'держатся': 0.399, 'отклеивается': 0.386, 'ерунда': 0.372, 'одного': 0.338, 'полная': 0.328, 'раза': 0.296, 'короче': 0.272}\n",
            "очень плохое качество товара, швы не ровные, заказывали большой размер,   но он оказался мал\t\n",
            "{'заказывали': 0.404, 'мал': 0.361, 'ровные': 0.338, 'плохое': 0.335, 'оказался': 0.334, 'большой': 0.331, 'товара': 0.314, 'швы': 0.279, 'качество': 0.182, 'размер': 0.167}\n",
            "НЕПОРЯДОЧНЫЙ ПРОДАВЕЦ! Сам отменил транспортировку товара и деньги не вернул.\t\n",
            "{'непорядочный': 0.548, 'транспортировку': 0.543, 'отменил': 0.46, 'товара': 0.275, 'вернул': 0.25, 'продавец': 0.17, 'деньги': 0.162}\n",
            "Пришёл рванный, открыла спор деньги не возвращают, хотят чтоб отправила,   но отправлять за своей счёт не буду \t\n",
            "{'хотят': 0.414, 'отправила': 0.381, 'счёт': 0.374, 'отправлять': 0.362, 'возвращают': 0.356, 'своей': 0.341, 'открыла': 0.209, 'буду': 0.207, 'пришёл': 0.178, 'спор': 0.176}\n",
            "товар не пришёл. ...вернули деньги заказала в 20- ых числах июня....26 августа вернули деньги... после  открытия спора\t\n",
            "{'числах': 0.437, 'июня': 0.356, 'вернули': 0.319, '26': 0.317, 'августа': 0.316, 'открытия': 0.305, '20': 0.267, 'деньги': 0.266, 'спора': 0.265, 'пришёл': 0.17}\n",
            "Заказывала в начале мая, ждала 2 месяца, так и не пришло. Сделала возврат,   деньги вернули. \t\n",
            "{'начале': 0.457, 'мая': 0.438, 'сделала': 0.397, 'возврат': 0.34, 'ждала': 0.278, 'пришло': 0.243, 'месяца': 0.242, 'заказывала': 0.24, 'вернули': 0.209, 'деньги': 0.174}\n",
            "К сожалению оформляю заказ у продавца не первый раз, и ниразу от него ничего не пришло,   но хоть деньги возвращает \t\n",
            "{'возвращает': 0.586, 'первый': 0.422, 'сожалению': 0.413, 'пришло': 0.313, 'продавца': 0.3, 'заказ': 0.265, 'деньги': 0.224}\n",
            "Вообще качество не понравилось!  Размер М большой,   хотя заказывала по их таблице размеров! Пришла довольно быстро\t\n",
            "{'размеров': 0.382, 'таблице': 0.371, 'довольно': 0.366, 'большой': 0.322, 'понравилось': 0.304, 'хотя': 0.286, 'вообще': 0.28, 'заказывала': 0.249, 'пришла': 0.239, 'быстро': 0.225}\n",
            "на колготках была дырка\t\n",
            "{'колготках': 0.808, 'дырка': 0.589}\n",
            "Товар не пришёл,деньги не вернули,  не стоит его заказывать)\t\n",
            "{'стоит': 0.527, 'заказывать': 0.499, 'пришёл': 0.39, 'вернули': 0.365, 'товар': 0.308, 'деньги': 0.305}\n",
            "Это не то чего я хотела,   прислали другую кофту сколько ещё вам писать?\t\n",
            "{'писать': 0.445, 'сколько': 0.424, 'другую': 0.416, 'кофту': 0.366, 'хотела': 0.328, 'прислали': 0.308, 'ещё': 0.265, 'это': 0.208}\n",
            "Ждала 2 месяца - ничего не пришло . Деньги вернули .\t\n",
            "{'ждала': 0.536, 'пришло': 0.469, 'месяца': 0.466, 'вернули': 0.403, 'деньги': 0.336}\n",
            "Единственный плюс - быстро дошла. Ужасный пошив, есть места не прошиты вовсе. Естественно за такую цену и качество соответственное. Разочарована,   выбросила деньги и эту тряпку тоже.\t\n",
            "{'выбросила': 0.328, 'тряпку': 0.306, 'вовсе': 0.303, 'места': 0.301, 'естественно': 0.292, 'прошиты': 0.268, 'единственный': 0.247, 'дошла': 0.242, 'плюс': 0.235, 'пошив': 0.228}\n"
          ]
        }
      ]
    }
  ]
}