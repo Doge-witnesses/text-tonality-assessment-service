{
  "nbformat": 4,
  "nbformat_minor": 0,
  "metadata": {
    "colab": {
      "provenance": []
    },
    "kernelspec": {
      "name": "python3",
      "display_name": "Python 3"
    },
    "language_info": {
      "name": "python"
    }
  },
  "cells": [
    {
      "cell_type": "code",
      "execution_count": null,
      "metadata": {
        "id": "UYmCZ4okojuu"
      },
      "outputs": [],
      "source": [
        "import torch\n",
        "from transformers import AutoModelForTokenClassification, AutoTokenizer\n",
        "model_name = 'cointegrated/rubert-tiny2-sentence-compression'\n",
        "model = AutoModelForTokenClassification.from_pretrained(model_name)\n",
        "tokenizer = AutoTokenizer.from_pretrained(model_name)\n",
        "\n",
        "\n",
        "def compress(text, threshold=0.5, keep_ratio=None):\n",
        "\n",
        "    with torch.inference_mode():\n",
        "        tok = tokenizer(text, return_tensors='pt').to(model.device)\n",
        "        proba = torch.softmax(model(**tok).logits, -1).cpu().numpy()[0, :, 1]\n",
        "    if keep_ratio is not None:\n",
        "        threshold = sorted(proba)[int(len(proba) * keep_ratio)]\n",
        "    kept_toks = []\n",
        "    keep = False\n",
        "    prev_word_id = None\n",
        "    for word_id, score, token in zip(tok.word_ids(), proba, tok.input_ids[0]):\n",
        "        if word_id is None:\n",
        "            keep = True\n",
        "        elif word_id != prev_word_id:\n",
        "            keep = score < threshold\n",
        "        if keep:\n",
        "            kept_toks.append(token)\n",
        "        prev_word_id = word_id\n",
        "    return tokenizer.decode(kept_toks, skip_special_tokens=True)\n",
        "\n",
        "\n",
        "text = 'Кроме того, можно взять идею, рожденную из сердца, и выразить ее в рамках одной '\\\n",
        "    'из этих структур, без потери искренности идеи и смысла песни.'\n",
        "    \n",
        "print(compress(text))\n",
        "print(compress(text, threshold=0.3))\n",
        "print(compress(text, threshold=0.1))\n",
        "# можно взять идею, рожденную из сердца, и выразить ее в рамках одной из этих структур.\n",
        "# можно взять идею, рожденную из сердца выразить ее в рамках одной из этих структур.\n",
        "# можно взять идею рожденную выразить структур.\n",
        "\n",
        "print(compress(text, keep_ratio=0.5))\n",
        "# можно взять идею, рожденную из сердца выразить ее в рамках структур.\n"
      ]
    }
  ]
}