{
  "nbformat": 4,
  "nbformat_minor": 0,
  "metadata": {
    "colab": {
      "provenance": []
    },
    "kernelspec": {
      "name": "python3",
      "display_name": "Python 3"
    },
    "language_info": {
      "name": "python"
    }
  },
  "cells": [
    {
      "cell_type": "markdown",
      "source": [
        "# **rut5_base_headline_gen_telegram**"
      ],
      "metadata": {
        "id": "SruT2qinMNrq"
      }
    },
    {
      "cell_type": "code",
      "source": [
        "!pip install transformers sentencepiece"
      ],
      "metadata": {
        "colab": {
          "base_uri": "https://localhost:8080/"
        },
        "id": "uDJAOxBK1XhI",
        "outputId": "d5771ded-0a84-41d0-898d-758213351006"
      },
      "execution_count": 13,
      "outputs": [
        {
          "output_type": "stream",
          "name": "stdout",
          "text": [
            "Looking in indexes: https://pypi.org/simple, https://us-python.pkg.dev/colab-wheels/public/simple/\n",
            "Requirement already satisfied: transformers in /usr/local/lib/python3.7/dist-packages (4.24.0)\n",
            "Requirement already satisfied: sentencepiece in /usr/local/lib/python3.7/dist-packages (0.1.97)\n",
            "Requirement already satisfied: importlib-metadata in /usr/local/lib/python3.7/dist-packages (from transformers) (4.13.0)\n",
            "Requirement already satisfied: numpy>=1.17 in /usr/local/lib/python3.7/dist-packages (from transformers) (1.21.6)\n",
            "Requirement already satisfied: tqdm>=4.27 in /usr/local/lib/python3.7/dist-packages (from transformers) (4.64.1)\n",
            "Requirement already satisfied: pyyaml>=5.1 in /usr/local/lib/python3.7/dist-packages (from transformers) (6.0)\n",
            "Requirement already satisfied: tokenizers!=0.11.3,<0.14,>=0.11.1 in /usr/local/lib/python3.7/dist-packages (from transformers) (0.13.2)\n",
            "Requirement already satisfied: huggingface-hub<1.0,>=0.10.0 in /usr/local/lib/python3.7/dist-packages (from transformers) (0.11.0)\n",
            "Requirement already satisfied: regex!=2019.12.17 in /usr/local/lib/python3.7/dist-packages (from transformers) (2022.6.2)\n",
            "Requirement already satisfied: requests in /usr/local/lib/python3.7/dist-packages (from transformers) (2.23.0)\n",
            "Requirement already satisfied: packaging>=20.0 in /usr/local/lib/python3.7/dist-packages (from transformers) (21.3)\n",
            "Requirement already satisfied: filelock in /usr/local/lib/python3.7/dist-packages (from transformers) (3.8.0)\n",
            "Requirement already satisfied: typing-extensions>=3.7.4.3 in /usr/local/lib/python3.7/dist-packages (from huggingface-hub<1.0,>=0.10.0->transformers) (4.1.1)\n",
            "Requirement already satisfied: pyparsing!=3.0.5,>=2.0.2 in /usr/local/lib/python3.7/dist-packages (from packaging>=20.0->transformers) (3.0.9)\n",
            "Requirement already satisfied: zipp>=0.5 in /usr/local/lib/python3.7/dist-packages (from importlib-metadata->transformers) (3.10.0)\n",
            "Requirement already satisfied: chardet<4,>=3.0.2 in /usr/local/lib/python3.7/dist-packages (from requests->transformers) (3.0.4)\n",
            "Requirement already satisfied: urllib3!=1.25.0,!=1.25.1,<1.26,>=1.21.1 in /usr/local/lib/python3.7/dist-packages (from requests->transformers) (1.24.3)\n",
            "Requirement already satisfied: certifi>=2017.4.17 in /usr/local/lib/python3.7/dist-packages (from requests->transformers) (2022.9.24)\n",
            "Requirement already satisfied: idna<3,>=2.5 in /usr/local/lib/python3.7/dist-packages (from requests->transformers) (2.10)\n"
          ]
        }
      ]
    },
    {
      "cell_type": "code",
      "execution_count": 14,
      "metadata": {
        "id": "dVrDnyyw1Ma0"
      },
      "outputs": [],
      "source": [
        "from transformers import AutoTokenizer, T5ForConditionalGeneration\n",
        "\n",
        "model_name = \"IlyaGusev/rut5_base_headline_gen_telegram\"\n",
        "tokenizer = AutoTokenizer.from_pretrained(model_name)\n",
        "model_rut5 = T5ForConditionalGeneration.from_pretrained(model_name)"
      ]
    },
    {
      "cell_type": "code",
      "source": [
        "def compress(text : str):\n",
        "  input_ids = tokenizer([text], max_length=len(text), add_special_tokens=True, padding=\"max_length\", truncation=True, return_tensors=\"pt\")[\"input_ids\"]\n",
        "  output_ids = model_rut5.generate(input_ids=input_ids)[0]\n",
        "  return tokenizer.decode(output_ids, skip_special_tokens=True)"
      ],
      "metadata": {
        "id": "o-fe5N0LLkfy"
      },
      "execution_count": 15,
      "outputs": []
    },
    {
      "cell_type": "code",
      "source": [
        "import pandas as pd\n",
        "import numpy as np"
      ],
      "metadata": {
        "id": "WwFrL8En2BRI"
      },
      "execution_count": 27,
      "outputs": []
    },
    {
      "cell_type": "code",
      "source": [
        "dataset_women = pd.read_csv('women.csv', lineterminator='\\n')\n",
        "dataset_women = dataset_women.dropna()\n",
        "dataset_women = dataset_women.drop(columns= ['id'], axis= 1)\n",
        "\n",
        "print(dataset_women[60:71])"
      ],
      "metadata": {
        "colab": {
          "base_uri": "https://localhost:8080/"
        },
        "id": "VyiZyoa12Yjr",
        "outputId": "e7c04418-2b1b-43df-d5dc-97f4741a2f11"
      },
      "execution_count": 21,
      "outputs": [
        {
          "output_type": "stream",
          "name": "stdout",
          "text": [
            "                                                 text  label\n",
            "60  первый раз столкнулась с подобным обманом прис...     -1\n",
            "61  Леггенсы ужасть. Ткань еще норм, но выкроны од...     -1\n",
            "62  Заказ пришёл изначально в другой город ,ждала ...     -1\n",
            "63  Приехал платок половина его а вторую половину ...     -1\n",
            "64  Платье пришло с браком!!!! Продавец не отвечае...     -1\n",
            "65  не стоит покупать. лучше переплатить и купить ...     -1\n",
            "66  Доставка быстрая-единственный плюс. Платье тон...     -1\n",
            "67  рост туловища явно не на наших девченок) пошит...     -1\n",
            "68         заказа не получила,   деньги не вернули!\\t     -1\n",
            "69                                           Велико\\t     -1\n",
            "70  Посылки нет уже 3 месяца.Продавец уверяла ,  ч...     -1\n"
          ]
        }
      ]
    },
    {
      "cell_type": "markdown",
      "source": [
        "Короткие тексты:"
      ],
      "metadata": {
        "id": "dkAMKkb9OyI1"
      }
    },
    {
      "cell_type": "code",
      "source": [
        "for text in dataset_women['text'][60:71]:\n",
        "  print('short:', compress(text), '\\noriginal:', text , '\\n==============================')"
      ],
      "metadata": {
        "colab": {
          "base_uri": "https://localhost:8080/"
        },
        "id": "HMnEvhdE2ZGD",
        "outputId": "73255209-3cf3-4415-c559-66587bb404cb"
      },
      "execution_count": 22,
      "outputs": [
        {
          "output_type": "stream",
          "name": "stderr",
          "text": [
            "/usr/local/lib/python3.7/dist-packages/transformers/generation_utils.py:1364: UserWarning: Neither `max_length` nor `max_new_tokens` has been set, `max_length` will default to 100 (`self.config.max_length`). Controlling `max_length` via the config is deprecated and `max_length` will be removed from the config in v5 of Transformers -- we recommend using `max_new_tokens` to control the maximum length of the generation.\n",
            "  UserWarning,\n"
          ]
        },
        {
          "output_type": "stream",
          "name": "stdout",
          "text": [
            "short: Первый раз столкнулась с обманом, прислали пустой пакет \n",
            "original: первый раз столкнулась с подобным обманом прислали пустой пакет. спор открыла сразу   но решение не в мою пользу (крайне разочарована в людях\t \n",
            "==============================\n",
            "short: Леггенсы ужасть. В икрах плотно, попу расплющили, под попой и в паху складки \n",
            "original: Леггенсы ужасть. Ткань еще норм, но выкроны одинаково что спереди что сзади, так что не садятся на женскую фигуру как надо и везде собираются складками, хотя фигура у пеня нормальная. В икрах плотно, попу расплющили, под попой и в паху складки,   талия высокая и свободная. Такие вещи лучше мерить перед покупкой. Если вы любите что бы сидело хорошо - не берите. \t \n",
            "==============================\n",
            "short: Заказ пришёл изначально в другой город, ждала очень долго из-за этого \n",
            "original: Заказ пришёл изначально в другой город ,ждала очень долго из за этого,   продавец не общался!!!\t \n",
            "==============================\n",
            "short: Приехал платок, а вторая половина его видно оставили ужасом (фото) \n",
            "original: Приехал платок половина его а вторую половину себе видно оставили это ужас \t \n",
            "==============================\n",
            "short: Платье пришло с браком!!!! Продавец не отвечает и не вооачивает деньги! \n",
            "original: Платье пришло с браком!!!! Продавец не отвечает и не вооачивает деньги!!! Ужасный продавец, заказывать у него больше никогда не буду,   все очень плохо!!!!!\t \n",
            "==============================\n",
            "short: Лучше переплатить и купить норм кофту \n",
            "original: не стоит покупать. лучше переплатить и купить норм кофту\t \n",
            "==============================\n",
            "short: Доставка быстрая-единственный плюс. Платье тонкое, не на осень даже, а на лето \n",
            "original: Доставка быстрая-единственный плюс. Платье тонкое! Не на осень даже, а на лето. Таблица размеров не совсем точная, платье великовато. Карманов нет, это   обманка  . Длина на рост 165- ниже колена. В общем я осталась недовольна, т.к. заявлено,что платье тёплое.\t \n",
            "==============================\n",
            "short: Пошить очень криво (фото) \n",
            "original: рост туловища явно не на наших девченок) пошить очень криво\t \n",
            "==============================\n",
            "short: Заказ не получила, деньги не вернули! \n",
            "original: заказа не получила,   деньги не вернули!\t \n",
            "==============================\n",
            "short: Великой Отечественной войны \n",
            "original: Велико\t \n",
            "==============================\n",
            "short: Посылки нет уже 3 месяца. Вмешалась служба алиэкспресс \n",
            "original: Посылки нет уже 3 месяца.Продавец уверяла ,  что в пути.Номер не отслеживался.Открыла спор.Продавец просил закрыть.Вмешалась служба алиэкспресс.Они решили вернуть мне деньги.Поэтому ни одной звезды.\t \n",
            "==============================\n"
          ]
        }
      ]
    },
    {
      "cell_type": "code",
      "source": [
        "dataset_hotel = pd.read_csv('hotel.csv')\n",
        "dataset_hotel = dataset_hotel.dropna()\n",
        "dataset_hotel = dataset_hotel.drop(columns= ['id'], axis= 1)\n",
        "\n",
        "print(dataset_hotel[60:71])"
      ],
      "metadata": {
        "colab": {
          "base_uri": "https://localhost:8080/"
        },
        "id": "vSD09Fos2zXX",
        "outputId": "060155b4-2733-4b80-8004-fb253c6cb209"
      },
      "execution_count": 25,
      "outputs": [
        {
          "output_type": "stream",
          "name": "stdout",
          "text": [
            "                                                 text  label\n",
            "60  Останавливались в этом отеле, для 4-х дневного...      0\n",
            "61  Неделю пробыли с женой в отеле в конце марта. ...      0\n",
            "62  Останавливались на 2 дня, в целом отель неплох...      1\n",
            "63  Расположен в самом центре, почти в готическом ...      1\n",
            "64  Все понравилось. Расположение отличное, в люби...      1\n",
            "65  Для нашей семьи - традиция приезжать в марте в...      1\n",
            "66  Отель расположен в готическом квартале Барсело...      1\n",
            "67  Отель неплохой в самом центре рядом с Рамблой,...      0\n",
            "68  Плюсы: Отель расположен на тихой улице рядом с...      0\n",
            "69  Очень чисто, дружелюбный персонал, большая ком...      1\n",
            "70  Всегда была фанатом NH отелей, куда бы не путе...      0\n"
          ]
        }
      ]
    },
    {
      "cell_type": "markdown",
      "source": [
        "**Длинные тексты:**"
      ],
      "metadata": {
        "id": "OI8imEsGOtIG"
      }
    },
    {
      "cell_type": "code",
      "source": [
        "for text in dataset_hotel['text'][60:71]:\n",
        "  print('short:', compress(text), '\\noriginal:', text , '\\n==============================')"
      ],
      "metadata": {
        "colab": {
          "base_uri": "https://localhost:8080/"
        },
        "id": "rodySU6h210P",
        "outputId": "b4c18536-3cd3-48b3-dcc8-3659efc5ec2e"
      },
      "execution_count": 24,
      "outputs": [
        {
          "output_type": "stream",
          "name": "stderr",
          "text": [
            "/usr/local/lib/python3.7/dist-packages/transformers/generation_utils.py:1364: UserWarning: Neither `max_length` nor `max_new_tokens` has been set, `max_length` will default to 100 (`self.config.max_length`). Controlling `max_length` via the config is deprecated and `max_length` will be removed from the config in v5 of Transformers -- we recommend using `max_new_tokens` to control the maximum length of the generation.\n",
            "  UserWarning,\n"
          ]
        },
        {
          "output_type": "stream",
          "name": "stdout",
          "text": [
            "short: Отель в Барселоне для 4-х дневного пребывания \n",
            "original: Останавливались в этом отеле, для 4-х дневного пребывания в Барселоне. Отель находится в очень удобном месте, в Готическом квартале( все находится в близкой доступности, знаменитая Ля Рамбла, рынок и т.д.)Отель 3*, вполне хорошо. Конечно, номера староваты; но для кратковременного пребывания подходит. К моменту заселения номер был готов, для детей были установлены детская кроватка, расстелена софа; В номере есть чайник!( что очень не хватает нашей семье заграницей- любители попить чай перед сном), кофеварка;в ванной комнате: тапочки, халат; и что меня удивило маска для волос!!!, крем для рук, лосьон для тела, шампунь.Завтраки- неплохие, по желанию готовили омлет, сухие завтраки, смузи, разные виды чая, кофе; Каш- нет!Убирали номер каждый день, была за 4 дня одна смена постели. Приветливый персонал на ресепшн. Могу сказать, что для кратковременной остановки в Барселоне вполне Хорошее место локации. \n",
            "==============================\n",
            "short: Отель в центре Барселоны (фото) \n",
            "original: Неделю пробыли с женой в отеле в конце марта. Отель находится в самом центре Барселоны, в 2-х минутах от Рамблы. Несмотря на свое расположение в центре города, отель очень тихий. Номерной фонд староват и немного грязноват, хотя убирали номер каждый день. Номера маленькие. Есть интернет, но слабый. Завтраки шведский стол, выбор не большой, но голодным не останешься! Основное достоинство отеля это бюджетная цена и отличное расположение! \n",
            "==============================\n",
            "short: Отель в Краснодаре: отель неплохой, удачное месторасположение, недалеко от Рамблы, есть Wi-fi и отличные завтраки \n",
            "original: Останавливались на 2 дня, в целом отель неплохой,удачное месторасположение,недалеко от Рамблы,есть Wi-fi,отличные завтраки,понравилось,что кроме основной еды и напитков,есть фрукты! Персонал приветливый, комнаты чистые.  \n",
            "==============================\n",
            "short: Отель в центре Барселоны \n",
            "original: Расположен в самом центре, почти в готическом квартале. Рядом с Рамблой и Площадью Каталонии. Хорошие уютные номера с приличной мебелью, комфортная ванная комната. Не плохой Wi-Fi. Рядом много разных магазинов и ресторанов. Отель понравился. \n",
            "==============================\n",
            "short: Одна из лучших гостиниц, в которых мы жили в Барселоне \n",
            "original: Все понравилось. Расположение отличное, в любимом районе,близко до всего, тихо в любое время суток. Большой номер с чайником, чисто, доброжелательный ресепшн. Одна из лучших гостиниц, в которых мы жили в Барселоне. \n",
            "==============================\n",
            "short: В Барселоне нашли отель, который нашли методом проб и ошибок \n",
            "original: Для нашей семьи - традиция приезжать в марте в Барселону и праздновать мой день рождения:). Этот отель нашли методом проб и ошибок. Нам очень нравится простор в номере, завтраки и местоположение отеля. В следующем году снова приедем! \n",
            "==============================\n",
            "short: Отель в Барселоне: очень просто добраться из аэропорта, до Рамблы дойти вообще три минуты пешком \n",
            "original: Отель расположен в готическом квартале Барселоны. Очень просто добраться из(до) аэропорта - аэробус до(от) Площади Каталонии + пять минут пешком. До Рамблы дойти вообще три минуты, до моря - 10. В номерах чисто, есть минибар. Персонал приветливый. Завтрак очень даже хороший. \n",
            "==============================\n",
            "short: Отель в центре Москвы, где можно встретить представителей любой страны мира, можно за 10 шагов оказаться в центре кипения жизни \n",
            "original: Отель неплохой в самом центре рядом с Рамблой, можно за пару шагов оказаться в центре кипения жизни, за десять дойти до моря, встретить представителя любой страны мира, а потом оказаться обратно на узенькой улочке в отеле. Тихой её правда не назовёшь, потому что никогда не знаешь когда туристы под окнами начнут орать. Обслуживание вежливое и приветливое, завтраки вполне приемлимые. У нас в номере была ещё и кофемашина. Уборка добросовестная. в общем, вполне себе рекомендую \n",
            "==============================\n",
            "short: В Турции продается отель с бесплатным интернетом и бесплатной кофе-машиной (фото, видео) \n",
            "original: Плюсы: Отель расположен на тихой улице рядом с Рамбалой и достопримечательностями. Быстрое заселение, внимательный персонал, просторные и чистые комнаты. В номере есть бесплатная кофе-машина, чай, сливки и бутылка воды. Хорошая ванная комната. Гель, мыло и шампунь - присутствуют. Не плохие завтраки. Для любителей - даже вино и шампанское!Минусы: Интернет только на 12 часов. При заселении раньше 15 часов берут плату 10 евро. \n",
            "==============================\n",
            "short: В Барселоне открылась новая гостиница, которая находится в тихом переулке при площади Каталонии \n",
            "original: Очень чисто, дружелюбный персонал, большая комната, хорошо работает кондиционер, есть чайник с чашками в номере, хорошо работал вайфай. Гостиница находится в тихом переулке при том, что от площадь Каталонии в 2-х минутах. Понравилось все, в следующий раз обязательно остановимся. \n",
            "==============================\n",
            "short: NH отеля: лучшие цены и сервис в сетевых отелях \n",
            "original: Всегда была фанатом NH отелей, куда бы не путешествовала. Приятно удивляют цены и сервис! Очень всем советую, кто не любит сюрпризов! В сетевых отелях качество всегда поддерживается на одинаковом уровне. \n",
            "==============================\n"
          ]
        }
      ]
    }
  ]
}