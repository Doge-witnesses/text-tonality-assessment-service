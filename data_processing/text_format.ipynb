{
  "nbformat": 4,
  "nbformat_minor": 0,
  "metadata": {
    "colab": {
      "provenance": []
    },
    "kernelspec": {
      "name": "python3",
      "display_name": "Python 3"
    },
    "language_info": {
      "name": "python"
    }
  },
  "cells": [
    {
      "cell_type": "markdown",
      "source": [
        "# **Main function: text_ru_clear()**"
      ],
      "metadata": {
        "id": "nAUIvyIxzI_x"
      }
    },
    {
      "cell_type": "code",
      "source": [
        "!pip install pyxDamerauLevenshtein\n",
        "# https://github.com/gfairchild/pyxDamerauLevenshtein\n",
        "# SOURCE: https://github.com/gfairchild/pyxDamerauLevenshtein/blob/master/examples/examples.py\n",
        "\n",
        "def fix_command(text, words):\n",
        "    import numpy as np\n",
        "    array = np.array(words)\n",
        "\n",
        "    from pyxdameraulevenshtein import damerau_levenshtein_distance_seqs, normalized_damerau_levenshtein_distance_seqs\n",
        "    result = list(zip(words, list(normalized_damerau_levenshtein_distance_seqs(text, array))))\n",
        "\n",
        "    command, rate = min(result, key=lambda x: x[1])\n",
        "    if rate > 0.40:\n",
        "        return\n",
        "\n",
        "    return command"
      ],
      "metadata": {
        "colab": {
          "base_uri": "https://localhost:8080/"
        },
        "id": "D8sZZCTXhuvS",
        "outputId": "708b928c-2b1f-4c71-92aa-d38201ec2d6e"
      },
      "execution_count": 90,
      "outputs": [
        {
          "output_type": "stream",
          "name": "stdout",
          "text": [
            "Looking in indexes: https://pypi.org/simple, https://us-python.pkg.dev/colab-wheels/public/simple/\n",
            "Requirement already satisfied: pyxDamerauLevenshtein in /usr/local/lib/python3.7/dist-packages (1.7.1)\n"
          ]
        }
      ]
    },
    {
      "cell_type": "code",
      "source": [
        "import pandas as pd\n",
        "df = pd.read_csv('dictionary_rus.csv')"
      ],
      "metadata": {
        "id": "csFbGTWBlV_n"
      },
      "execution_count": 91,
      "outputs": []
    },
    {
      "cell_type": "code",
      "source": [
        "df = df[df['F_true'] > 0.0001]\n",
        "dictionary = list(df._get_column_array(1))"
      ],
      "metadata": {
        "id": "e2h2ThnaqEpS"
      },
      "execution_count": 92,
      "outputs": []
    },
    {
      "cell_type": "code",
      "execution_count": 93,
      "metadata": {
        "id": "pKHYQONtcblm"
      },
      "outputs": [],
      "source": [
        "def text_ru_clear(text : str) -> str:\n",
        "  # Оставляет в тексте только словообразующие символы\n",
        "  # Приводит к нижнему регистру\n",
        "  # Исправляет орфографические ошибки\n",
        "  # Разбивает строку на список слов и возвращает его\n",
        "  for letter in text:\n",
        "    x = ord(letter)\n",
        "    if (x >= 1072 and x <= 1103) or (x >= 1040 and x <= 1071) or x == 1105 or x == 1025 or x == 32:\n",
        "      continue\n",
        "    else:\n",
        "      text = text.replace(letter, ' ')\n",
        "  while '  ' in text:\n",
        "    text = text.replace('  ', ' ')\n",
        "  text = text.lower()\n",
        "  text = text.split(' ')\n",
        "  if text[len(text)-1] == '':\n",
        "    text.pop(len(text)-1)\n",
        "    for i in range(len(text)):\n",
        "      text[i] = fix_command(text[i], dictionary)\n",
        "  return text "
      ]
    },
    {
      "cell_type": "code",
      "source": [
        "R = input()\n",
        "print(text_ru_clear(R))"
      ],
      "metadata": {
        "colab": {
          "base_uri": "https://localhost:8080/"
        },
        "id": "a3Y11xQ8yVtt",
        "outputId": "e9ccd0c0-3f1f-4c7d-b2fc-1ea493439614"
      },
      "execution_count": 94,
      "outputs": [
        {
          "output_type": "stream",
          "name": "stdout",
          "text": [
            "Я хазяйка пухавика! Продавец плахой( Пухавик пришол дырявый.\n",
            "['я', 'хозяйка', 'пуховик', 'продавец', 'плохой', 'пуховик', 'пришол', 'дырявые']\n"
          ]
        }
      ]
    }
  ]
}